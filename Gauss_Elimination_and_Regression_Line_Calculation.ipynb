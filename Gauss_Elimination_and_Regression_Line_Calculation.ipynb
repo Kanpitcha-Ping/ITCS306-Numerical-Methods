{
 "cells": [
  {
   "cell_type": "code",
   "execution_count": 12,
   "metadata": {},
   "outputs": [
    {
     "name": "stdout",
     "output_type": "stream",
     "text": [
      "Gauss Elimination Method\n",
      "a0 =  5.000000000000003\n",
      "a1 =  4.000000000000001\n",
      "a2 =  -3.0000000000000018\n",
      "y = 5.000000000000003 + 4.000000000000001x + -3.0000000000000018x^2 \n"
     ]
    }
   ],
   "source": [
    "#Solve matrix equation\n",
    "import numpy as np\n",
    "import math\n",
    "\n",
    "def fw_elim_rec(m):\n",
    "    (nrow, ncol) = np.shape(m)\n",
    "    calM = m.copy()\n",
    "    \n",
    "    if(nrow == 1):\n",
    "        pass\n",
    "    else:\n",
    "        for i in range(0, nrow-1):\n",
    "            fac = calM[i+1,0]/calM[0,0]\n",
    "            calM[i+1,:] = calM[i+1,:] - calM[0,:]*fac\n",
    "        \n",
    "        temp = fw_elim_rec(calM[1:nrow,1:ncol])\n",
    "        calM[1:nrow,1:ncol] = temp\n",
    "            \n",
    "    return calM    \n",
    "\n",
    "def Back_sub_for(m):\n",
    "    (nrow, ncol) = np.shape(m)\n",
    "    calM = m.copy()\n",
    "    \n",
    "    result = np.zeros(nrow)\n",
    "    \n",
    "    for i in range(nrow-1, -1, -1):\n",
    "        \n",
    "        sum_of_prod = 0\n",
    "        for j in range(nrow-1, i-1, -1):\n",
    "            prod = calM[i,j]*result[j]\n",
    "            sum_of_prod += prod\n",
    "        \n",
    "        result[i] = (calM[i,ncol-1] - sum_of_prod)/calM[i,i]\n",
    "            \n",
    "    return result\n",
    "\n",
    "M = np.matrix([\n",
    "    [6., 16.5, 14., 54.],\n",
    "    [16.5, 76.25, 48., 243.5],\n",
    "    [14., 48., 54., 100.]\n",
    "    ])\n",
    "\n",
    "print(\"Gauss Elimination Method\")\n",
    "# print(\"Original matrix of 3 equations: \")\n",
    "# print(M)\n",
    "\n",
    "result_rec = fw_elim_rec(M)\n",
    "# print(result_rec)\n",
    "\n",
    "output = Back_sub_for(result_rec)\n",
    "print('a0 = ',output[0])\n",
    "print('a1 = ',output[1])\n",
    "print('a2 = ',output[2])\n",
    "print('y = {} + {}x + {}x^2 '.format(output[0],output[1],output[2]))"
   ]
  },
  {
   "cell_type": "code",
   "execution_count": 25,
   "metadata": {},
   "outputs": [
    {
     "name": "stdout",
     "output_type": "stream",
     "text": [
      "a0 = -5.441138795850044, a1 = 3.497099910138063\n"
     ]
    },
    {
     "data": {
      "text/plain": [
       "[-5.441138795850044, 3.497099910138063]"
      ]
     },
     "execution_count": 25,
     "metadata": {},
     "output_type": "execute_result"
    }
   ],
   "source": [
    "import numpy as np\n",
    "\n",
    "def reg(X, Y):\n",
    "    a = [0,0]\n",
    "    n = X.size\n",
    "    \n",
    "    mean_x = 0\n",
    "    mean_y = 0\n",
    "    sum_xy = 0\n",
    "    sum_x = 0\n",
    "    sum_y = 0\n",
    "    sum_xx = 0\n",
    "    \n",
    "    for i in X:\n",
    "        sum_x += i\n",
    "        sum_xx += i*i\n",
    "    mean_x = sum_x/n\n",
    "    \n",
    "    for i in Y:\n",
    "        sum_y += i\n",
    "    mean_y = sum_y/n\n",
    "    \n",
    "    for j in range(0, n):\n",
    "        sum_xy += X[j]*Y[j]\n",
    "        \n",
    "    a[1] = (n*sum_xy - sum_x*sum_y)/(n*sum_xx - sum_x*sum_x)\n",
    "    a[0] = mean_y - (a[1]*mean_x)\n",
    "    \n",
    "    return a\n",
    "# return [a_0, a_1]\n",
    "\n",
    "x = np.array([2.8,8.2,15.1,19.2,21.7])\n",
    "y = np.array([12.1,20.6,37.8,42.6,94])\n",
    "\n",
    "output = reg(x,y)\n",
    "print('a0 = {}, a1 = {}'.format(output[0],output[1]))\n",
    "reg(x,y)\n",
    "    "
   ]
  },
  {
   "cell_type": "code",
   "execution_count": null,
   "metadata": {},
   "outputs": [],
   "source": []
  }
 ],
 "metadata": {
  "kernelspec": {
   "display_name": "Python 3",
   "language": "python",
   "name": "python3"
  },
  "language_info": {
   "codemirror_mode": {
    "name": "ipython",
    "version": 3
   },
   "file_extension": ".py",
   "mimetype": "text/x-python",
   "name": "python",
   "nbconvert_exporter": "python",
   "pygments_lexer": "ipython3",
   "version": "3.8.3"
  }
 },
 "nbformat": 4,
 "nbformat_minor": 4
}
