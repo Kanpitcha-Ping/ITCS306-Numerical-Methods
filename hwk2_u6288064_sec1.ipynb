{
 "cells": [
  {
   "cell_type": "code",
   "execution_count": 98,
   "metadata": {},
   "outputs": [
    {
     "name": "stdout",
     "output_type": "stream",
     "text": [
      "Please pick a given movie from ['La la land', 'IT', 'Interstella', 'Jumanji']\n",
      "IT\n",
      "Please rate this movie (0-10)\n",
      "9\n",
      "Bravo\n"
     ]
    }
   ],
   "source": [
    "#Task 3 selecting and rating the movie\n",
    "\n",
    "movielist = ['La la land', 'IT', 'Interstella', 'Jumanji']\n",
    "print('Please pick a given movie from', movielist)\n",
    "pickedmovie = input()\n",
    "print('Please rate this movie (0-10)')\n",
    "rating = input()\n",
    "\n",
    "if int(rating)>=8:\n",
    "    print('Bravo')  \n",
    "elif int(rating)<=3:\n",
    "    print('Geeze')\n"
   ]
  },
  {
   "cell_type": "code",
   "execution_count": 88,
   "metadata": {},
   "outputs": [
    {
     "name": "stdout",
     "output_type": "stream",
     "text": [
      "The future value of the saving is  24393.597444632862\n"
     ]
    }
   ],
   "source": [
    "#Task 4: Future Value of Money\n",
    " \n",
    "FV1 = 2000*((1+0.0025)**12)\n",
    "FV2 = 2000*((1+0.0025)**11)\n",
    "FV3 = 2000*((1+0.0025)**10)\n",
    "FV4 = 2000*((1+0.0025)**9)\n",
    "FV5 = 2000*((1+0.0025)**8)\n",
    "FV6 = 2000*((1+0.0025)**7)\n",
    "FV7 = 2000*((1+0.0025)**6)\n",
    "FV8 = 2000*((1+0.0025)**5)\n",
    "FV9 = 2000*((1+0.0025)**4)\n",
    "FV10 = 2000*((1+0.0025)**3)\n",
    "FV11 = 2000*((1+0.0025)**2)\n",
    "FV12 = 2000*((1+0.0025)**1)\n",
    "\n",
    "FV_Total = FV1 + FV2 + FV3 + FV4 + FV5 + FV6 + FV7 + FV8 + FV9 + FV10 + FV11 + FV12\n",
    "print('The future value of the saving is ',FV_Total)"
   ]
  },
  {
   "cell_type": "code",
   "execution_count": 94,
   "metadata": {},
   "outputs": [
    {
     "name": "stdout",
     "output_type": "stream",
     "text": [
      "The future value of the saving is  24393.597444632862\n"
     ]
    }
   ],
   "source": [
    "#Task 5: (Cont.)Future Value of Money\n",
    "\n",
    "FV_Total = 0\n",
    "for FV in range(1,13):\n",
    "    FV_Total += 2000*((1+0.0025)**FV)\n",
    "    \n",
    "print('The future value of the saving is ',FV_Total)"
   ]
  },
  {
   "cell_type": "code",
   "execution_count": 105,
   "metadata": {},
   "outputs": [
    {
     "name": "stdout",
     "output_type": "stream",
     "text": [
      "Please enter 2 integer numbers\n",
      "1\n",
      "20\n",
      "LCM of 1 and 20 is 20\n"
     ]
    }
   ],
   "source": [
    "# Task 6: Least Common Multiple (LCM)\n",
    "\n",
    "print('Please enter 2 integer numbers')\n",
    "a = input()\n",
    "b = input()\n",
    "\n",
    "# find greater number\n",
    "if a < b: lcm = int(b)\n",
    "else: lcm = int(a)\n",
    "\n",
    "# loop for finding LCM\n",
    "while lcm > 0 :\n",
    "    if lcm % int(a) == 0 and lcm % int(b) == 0 :\n",
    "        break\n",
    "    lcm += 1\n",
    "\n",
    "print('LCM of {} and {} is {}'.format(a,b,lcm))\n"
   ]
  },
  {
   "cell_type": "code",
   "execution_count": 104,
   "metadata": {},
   "outputs": [
    {
     "name": "stdout",
     "output_type": "stream",
     "text": [
      "Please enter 2 integer numbers\n",
      "1\n",
      "3\n",
      "GCD of 1 and 3 is 1\n"
     ]
    }
   ],
   "source": [
    "# Task 7: Greatest Common Divider (GCD)\n",
    "\n",
    "print('Please enter 2 integer numbers')\n",
    "a = input()\n",
    "b = input()\n",
    "\n",
    "# find smaller number\n",
    "if a < b: gcd = int(a)\n",
    "else: gcd = int(b)\n",
    "\n",
    "# loop for finding GCD\n",
    "while gcd > 1 :\n",
    "    if int(a) % gcd == 0 and int(b) % gcd == 0 : break\n",
    "    gcd -= 1\n",
    "\n",
    "print('GCD of {} and {} is {}'.format(a,b,gcd))"
   ]
  },
  {
   "cell_type": "code",
   "execution_count": 2,
   "metadata": {},
   "outputs": [
    {
     "name": "stdout",
     "output_type": "stream",
     "text": [
      "Please enter an integer number\n",
      "2\n",
      "2 is a prime number\n"
     ]
    }
   ],
   "source": [
    "# Task 8: Prime number\n",
    "\n",
    "x = 0\n",
    "while int(x) <= 0:\n",
    "    print('Please enter an integer number')\n",
    "    x = input()\n",
    "    if int(x) > 0: break\n",
    "        \n",
    "if int(x) == 1: print('{} is not a prime number'.format(x))\n",
    "    \n",
    "i = 2\n",
    "for i in range(2,int(x)):\n",
    "    if int(x) % i == 0:\n",
    "        print('{} is not a prime number'.format(x))\n",
    "        break\n",
    "    i += 1\n",
    "\n",
    "if i == int(x): print('{} is a prime number'.format(x))\n",
    "    "
   ]
  },
  {
   "cell_type": "code",
   "execution_count": 1,
   "metadata": {},
   "outputs": [
    {
     "name": "stdout",
     "output_type": "stream",
     "text": [
      "The value of squareroot of 113.67 is 10.6616\n",
      "An actual value of squreroot of 113.67 is 10.661613386350117\n"
     ]
    }
   ],
   "source": [
    "import math\n",
    "# Task 9: Finding Squareroot\n",
    "\n",
    "x = 113.67\n",
    "i = 0 # the closest answer of squareroot of 6\n",
    "p = 0 # the parameter that count to 4 decimals\n",
    "\n",
    "for p in range(0,-5,-1):\n",
    "    while i >= 0:\n",
    "        if i**2 < x and (i+(10**p))**2 >= x : break\n",
    "        i += (10**p)\n",
    "    p -= 1\n",
    "\n",
    "print('The value of squareroot of {} is {:.4f}'.format(x,i))\n",
    "print('An actual value of squreroot of {} is {}'.format(x,math.sqrt(x)))"
   ]
  },
  {
   "cell_type": "code",
   "execution_count": null,
   "metadata": {},
   "outputs": [],
   "source": []
  }
 ],
 "metadata": {
  "kernelspec": {
   "display_name": "Python 3",
   "language": "python",
   "name": "python3"
  },
  "language_info": {
   "codemirror_mode": {
    "name": "ipython",
    "version": 3
   },
   "file_extension": ".py",
   "mimetype": "text/x-python",
   "name": "python",
   "nbconvert_exporter": "python",
   "pygments_lexer": "ipython3",
   "version": "3.8.3"
  }
 },
 "nbformat": 4,
 "nbformat_minor": 4
}
