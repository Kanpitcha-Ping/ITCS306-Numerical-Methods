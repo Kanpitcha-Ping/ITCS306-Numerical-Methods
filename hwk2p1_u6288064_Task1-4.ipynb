{
 "cells": [
  {
   "cell_type": "code",
   "execution_count": 1,
   "metadata": {},
   "outputs": [],
   "source": [
    "# Factorial\n",
    "\n",
    "def fac(n):\n",
    "    output = 1\n",
    "    for n in range(1,n+1):\n",
    "        output *= n\n",
    "    return output\n"
   ]
  },
  {
   "cell_type": "code",
   "execution_count": 2,
   "metadata": {},
   "outputs": [
    {
     "name": "stdout",
     "output_type": "stream",
     "text": [
      "Please enter a number of x: 0.2\n",
      "Please enter a significant figures: 5\n",
      "Value of e^0.2: 1.2214026666666666\n",
      "True value of e^0.2: 1.2214027581601699\n"
     ]
    }
   ],
   "source": [
    "# Task 1 finding e^x\n",
    "\n",
    "import math\n",
    "x = float(input(\"Please enter a number of x: \"))\n",
    "p = int(input('Please enter a significant figures: '))\n",
    "es = 0.5*(10**(2-p))\n",
    "ea = 100\n",
    "n = value = 0\n",
    "\n",
    "while ea > es:\n",
    "    prev = value\n",
    "    value += (x**n)/fac(n)\n",
    "    n += 1\n",
    "    ea = (abs(value - prev)/value)*100\n",
    "    \n",
    "print('Value of e^{}: {}'.format(x,value))\n",
    "print('True value of e^{}: {}'.format(x,math.e**x))"
   ]
  },
  {
   "cell_type": "code",
   "execution_count": 3,
   "metadata": {},
   "outputs": [],
   "source": [
    "# Task 2 ln(x)\n",
    "\n",
    "import math\n",
    "    \n",
    "def ln(inp, p):    \n",
    "    es = 0.5*(10**(2-p))\n",
    "    ea = 100\n",
    "    n = 1\n",
    "    value = 0\n",
    "\n",
    "    # x -> (-1,1], input = 1+x -> x = input - 1\n",
    "\n",
    "    if inp > 0 and inp <= 2 : # input = 0.2\n",
    "        x = inp - 1 \n",
    "        while abs(ea) > es:\n",
    "            prev = value\n",
    "            value += ((-1)**(n+1))*((x**n)/n)\n",
    "            n += 1\n",
    "            ea = abs(value - prev)*100/value\n",
    "        # end loop\n",
    "    elif inp > 2: # input = 4.7\n",
    "        c = 0\n",
    "        t = inp / math.e**c\n",
    "        while t > 2:\n",
    "            c += 1\n",
    "            t = inp / math.e**c\n",
    "        # end loop\n",
    "        x = t - 1\n",
    "        while abs(ea) > es:\n",
    "            prev = value\n",
    "            value += ((-1)**(n+1))*((x**n)/n)\n",
    "            ea = abs(value - prev)*100/value\n",
    "            n += 1\n",
    "        # end loop\n",
    "        value += c \n",
    "    else:\n",
    "        print('Error')\n",
    "    return value\n"
   ]
  },
  {
   "cell_type": "code",
   "execution_count": 4,
   "metadata": {},
   "outputs": [
    {
     "name": "stdout",
     "output_type": "stream",
     "text": [
      "Please enter a number: 4.7\n",
      "Please enter a significant figures: 5\n",
      "Value of ln(4.7): 1.5475614571425655\n",
      "True value of ln(4.7): 1.547562508716013\n"
     ]
    }
   ],
   "source": [
    "# Task 2 ln(x)\n",
    "\n",
    "inp_x = float(input(\"Please enter a number: \"))\n",
    "inp_p = int(input('Please enter a significant figures: '))\n",
    "print('Value of ln({}): {}'.format(inp_x,ln(inp_x,inp_p)))\n",
    "print('True value of ln({}): {}'.format(inp_x,math.log(inp_x)))"
   ]
  },
  {
   "cell_type": "code",
   "execution_count": 5,
   "metadata": {},
   "outputs": [],
   "source": [
    "# Task 3 log2(10), sin(60), tan^(-1)(0.4), and ln(0.6)\n",
    "\n",
    "import math\n",
    "\n",
    "# log2(x) = ln(x)/ln(2)\n",
    "def log2(inp, p):\n",
    "    return ln(inp, p)/ln(2, p)\n",
    "\n",
    "# sin(60)\n",
    "def sin(inp, p):\n",
    "    es = 0.5*(10**(2-p))\n",
    "    ea = 100\n",
    "    n = value = 0\n",
    "    x = math.radians(inp)\n",
    "    \n",
    "    while abs(ea) > es:\n",
    "        prev = value\n",
    "        value += ((-1)**n)*((x**(2*n+1))/fac(2*n+1))\n",
    "        n += 1\n",
    "        ea = abs(value - prev)*100/value\n",
    "    return value\n",
    "\n",
    "# tan^(-1)(0.4)\n",
    "def arctan(inp, p):\n",
    "    es = 0.5*(10**(2-p))\n",
    "    ea = 100\n",
    "    n = value = 0\n",
    "    x = math.radians(inp)\n",
    "    \n",
    "    while abs(ea) > es:\n",
    "        prev = value\n",
    "        value += ((-1)**n)*((x**(2*n+1))/(2*n+1))\n",
    "        n += 1\n",
    "        ea = abs(value - prev)*100/value\n",
    "    return value\n"
   ]
  },
  {
   "cell_type": "code",
   "execution_count": 6,
   "metadata": {},
   "outputs": [
    {
     "name": "stdout",
     "output_type": "stream",
     "text": [
      "Approximated value of log2(10) = 3.3219201337046584\n",
      "True value of log2(10) = 3.3219280948873626\n",
      "\n",
      "Approximated value of sin(60) = 0.8660254450997811\n",
      "True value of sin(60) = 0.8660254037844386\n",
      "\n",
      "Approximated value of tan^(-1)(0.4) = 0.00698120359098617\n",
      "True value of tan^(-1)(0.4) = 0.006981203590986054\n",
      "\n",
      "Approximated value of ln(0.6) = -0.5108248011189381\n",
      "True value of ln(0.6) = -0.5108256237659907\n"
     ]
    }
   ],
   "source": [
    "# Task 3 log2(10), sin(60), tan^(-1)(0.4), and ln(0.6)\n",
    "\n",
    "import math\n",
    "\n",
    "# log2(10)\n",
    "print('Approximated value of log2(10) =',log2(10,5))  # 5 is significant figure\n",
    "print('True value of log2(10) =',math.log(10,2)) \n",
    "print()\n",
    "# sin(60)\n",
    "print('Approximated value of sin(60) =',sin(60,5))\n",
    "print('True value of sin(60) =',math.sin(math.radians(60)))\n",
    "print()\n",
    "# tan^(-1)(0.4)\n",
    "print('Approximated value of tan^(-1)(0.4) =',arctan(0.4,5))\n",
    "print('True value of tan^(-1)(0.4) =',math.atan(math.radians(0.4)))\n",
    "print()\n",
    "# ln(0.6)\n",
    "print('Approximated value of ln(0.6) =',ln(0.6,5))\n",
    "print('True value of ln(0.6) =',math.log(0.6))"
   ]
  },
  {
   "cell_type": "code",
   "execution_count": 3,
   "metadata": {},
   "outputs": [],
   "source": [
    "# Task 4 Ploting\n",
    "\n",
    "import math\n",
    "import matplotlib.pyplot as plt\n",
    "import numpy as np\n",
    "\n",
    "def f(x):\n",
    "    return x**2 - 2*x - 3\n",
    "\n",
    "def g(x):\n",
    "    return (np.sin(x) + np.cos(x))\n",
    "\n",
    "def h(x):\n",
    "    return (np.sin(2*np.pi*x) + np.e**(2*x) + x - 2.5)\n"
   ]
  },
  {
   "cell_type": "code",
   "execution_count": 8,
   "metadata": {},
   "outputs": [
    {
     "data": {
      "image/png": "[encoded data removed]",
      "text/plain": [
       "<Figure size 432x288 with 1 Axes>"
      ]
     },
     "metadata": {
      "needs_background": "light"
     },
     "output_type": "display_data"
    }
   ],
   "source": [
    "# Task 4 Ploting x^2 - 2x - 3\n",
    "\n",
    "x = np.linspace(-10, 10, 100)\n",
    "\n",
    "y = f(x)\n",
    "\n",
    "# Plot the data\n",
    "plt.plot(x, y, label = 'linear')\n",
    "plt.legend()\n",
    "plt.ylabel('y')\n",
    "plt.xlabel('x')\n",
    "plt.annotate( 'f(x) = 0', xy=(3,0), xytext=(0,20), arrowprops=dict(facecolor='green', shrink=0.05) )\n",
    "plt.annotate( '', xy=(-1,0), xytext=(0,17), arrowprops=dict(facecolor='green', shrink=0.05) )\n",
    "plt.show()"
   ]
  },
  {
   "cell_type": "code",
   "execution_count": 9,
   "metadata": {},
   "outputs": [
    {
     "data": {
      "image/png": "[encoded data removed]",
      "text/plain": [
       "<Figure size 432x288 with 1 Axes>"
      ]
     },
     "metadata": {
      "needs_background": "light"
     },
     "output_type": "display_data"
    }
   ],
   "source": [
    "# Task 4 Ploting sin(x) + cos(x)\n",
    "\n",
    "x = np.linspace(-np.pi, 3*np.pi, 150)\n",
    "\n",
    "y = g(x) \n",
    "\n",
    "# Plot the data\n",
    "plt.plot(x, y, label = 'linear')\n",
    "plt.legend()\n",
    "plt.show()"
   ]
  },
  {
   "cell_type": "code",
   "execution_count": 10,
   "metadata": {},
   "outputs": [
    {
     "data": {
      "image/png": "[encoded data removed]",
      "text/plain": [
       "<Figure size 432x288 with 1 Axes>"
      ]
     },
     "metadata": {
      "needs_background": "light"
     },
     "output_type": "display_data"
    }
   ],
   "source": [
    "# Task 4 Ploting sin(2*pi*x) + e^(2x) + x - 2.5\n",
    "\n",
    "x = np.linspace(-3*np.pi, 3*np.pi, 80)\n",
    "\n",
    "y = h(x) \n",
    "\n",
    "# Plot the data\n",
    "plt.plot(x, y, label = 'linear')\n",
    "plt.legend()\n",
    "plt.show()"
   ]
  }
 ],
 "metadata": {
  "kernelspec": {
   "display_name": "Python 3",
   "language": "python",
   "name": "python3"
  },
  "language_info": {
   "codemirror_mode": {
    "name": "ipython",
    "version": 3
   },
   "file_extension": ".py",
   "mimetype": "text/x-python",
   "name": "python",
   "nbconvert_exporter": "python",
   "pygments_lexer": "ipython3",
   "version": "3.8.3"
  }
 },
 "nbformat": 4,
 "nbformat_minor": 4
}
