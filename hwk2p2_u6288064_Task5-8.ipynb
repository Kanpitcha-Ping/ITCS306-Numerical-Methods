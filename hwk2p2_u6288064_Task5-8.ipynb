{
 "cells": [
  {
   "cell_type": "code",
   "execution_count": 2,
   "metadata": {},
   "outputs": [],
   "source": [
    "# Task 5 implement 6 functions of matrix\n",
    "\n",
    "# A Square Matrix\n",
    "def is_square(M):\n",
    "    (nrow,ncolumn) = M.shape\n",
    "    if (nrow == ncolumn):\n",
    "        return True\n",
    "    else: \n",
    "        return False\n",
    "\n",
    "    \n",
    "# A Symmetrical Matrix\n",
    "def is_symmetrical(M):\n",
    "    (nrow,ncolumn) = M.shape\n",
    "    if (is_square(M) == True):\n",
    "        for i in range(0,nrow):\n",
    "            for j in range(i+1,ncolumn):\n",
    "                if (M[i,j] != M[j,i]):\n",
    "                    return False\n",
    "                else:\n",
    "                    pass\n",
    "        # end-loop\n",
    "    else:\n",
    "        return False\n",
    "    # end-if\n",
    "    return True\n",
    "\n",
    "\n",
    "# A Diagonal Matrix\n",
    "def is_diagonal(M):\n",
    "    (nrow,ncolumn) = M.shape\n",
    "    if (is_square(M) == True):\n",
    "        for i in range(0,nrow):\n",
    "            for j in range(i+1,ncolumn):\n",
    "                if (M[i,j] != 0 or M[j,i] != 0):\n",
    "                    return False\n",
    "                else:\n",
    "                    pass\n",
    "        # end-loop\n",
    "    else:\n",
    "        return False\n",
    "    # end-if\n",
    "    return True\n",
    "    \n",
    "\n",
    "# An Identity Matrix\n",
    "def is_identify(M):\n",
    "    (nrow,ncolumn) = M.shape\n",
    "    if (is_diagonal(M) == True):\n",
    "        for i in range(0,nrow):\n",
    "            if (M[i,i] != 1):\n",
    "                return False\n",
    "            else: \n",
    "                pass\n",
    "    else: \n",
    "        return False\n",
    "    # end-if\n",
    "    return True\n",
    "\n",
    "\n",
    "# A Zero Matrix\n",
    "def is_zero(M):\n",
    "    (nrow,ncolumn) = M.shape\n",
    "    for i in range(0,nrow):\n",
    "        for j in range(0,ncolumn):\n",
    "            if (M[i,j] != 0):\n",
    "                return False\n",
    "            else: \n",
    "                pass\n",
    "    # end-loop\n",
    "    return True\n",
    "    \n",
    "    \n",
    "# Matrix Transpose\n",
    "def transpose(M):\n",
    "    (nrow,ncolumn) = M.shape\n",
    "    a = [[0]*nrow for i in range(ncolumn)] # new list to be a result\n",
    "    for i in range(0,nrow):\n",
    "        for j in range(0,ncolumn):\n",
    "            a[j][i] = M[i,j]\n",
    "    # end-loop\n",
    "    return a\n",
    "    \n",
    "    "
   ]
  },
  {
   "cell_type": "code",
   "execution_count": 3,
   "metadata": {},
   "outputs": [
    {
     "name": "stdout",
     "output_type": "stream",
     "text": [
      "Matrix A:\n",
      " [[2 0 1]\n",
      " [2 5 0]\n",
      " [0 3 6]\n",
      " [1 3 6]]\n",
      "Transpose of A:\n",
      " [[2 2 0 1]\n",
      " [0 5 3 3]\n",
      " [1 0 6 6]]\n"
     ]
    }
   ],
   "source": [
    "import numpy as np\n",
    "\n",
    "A = np.matrix([[2,0,1],\n",
    "               [2,5,0],\n",
    "               [0,3,6],\n",
    "               [1,3,6]\n",
    "              ])\n",
    "\n",
    "# is_square(A)\n",
    "# is_symmetrical(A)\n",
    "# is_diagonal(A)\n",
    "print('Matrix A:\\n',A)\n",
    "print('Transpose of A:\\n',np.matrix(transpose(A)))"
   ]
  },
  {
   "cell_type": "code",
   "execution_count": 4,
   "metadata": {},
   "outputs": [],
   "source": [
    "# Task 6 Mutiplication\n",
    "\n",
    "def multiply(A, B):\n",
    "    (nrow_A,ncolumn_A) = A.shape \n",
    "    (nrow_B,ncolumn_B) = B.shape\n",
    "    M = [[0]*ncolumn_B for i in range(nrow_A)] # new list as a result\n",
    "    if (ncolumn_A == nrow_B):\n",
    "        i = 0\n",
    "        while (i < nrow_A):\n",
    "            j = 0\n",
    "            while (j < ncolumn_B):\n",
    "                sum = k = 0\n",
    "                while (k < ncolumn_A):\n",
    "                    product = A[i,k]*B[k,j]\n",
    "                    sum += product\n",
    "                    k += 1\n",
    "                # end-loop\n",
    "                M[i][j] = sum\n",
    "                j += 1\n",
    "            # end-loop\n",
    "            i += 1\n",
    "        # end-loop\n",
    "    else:\n",
    "        print('Cannot multiply!')\n",
    "    return M\n",
    "\n"
   ]
  },
  {
   "cell_type": "code",
   "execution_count": 5,
   "metadata": {},
   "outputs": [
    {
     "name": "stdout",
     "output_type": "stream",
     "text": [
      "A*B:\n",
      " [[16  9]\n",
      " [32 17]\n",
      " [73 15]\n",
      " [73 15]]\n"
     ]
    }
   ],
   "source": [
    "import numpy as np\n",
    "\n",
    "A = np.matrix([[2,1,1],\n",
    "               [2,5,1],\n",
    "               [1,3,6],\n",
    "               [1,3,6]\n",
    "              ])\n",
    "B = np.matrix([[1,3],\n",
    "               [4,2],\n",
    "               [10,1]\n",
    "              ])\n",
    "print(\"A*B:\\n\",np.matrix(multiply(A, B)))"
   ]
  },
  {
   "cell_type": "code",
   "execution_count": 3,
   "metadata": {},
   "outputs": [],
   "source": [
    "# Task 7 Determinant of Matrix \n",
    "\n",
    "import numpy as np\n",
    "\n",
    "# version 1 for loop\n",
    "def deter_loop(M):\n",
    "    (nrow,ncolumn) = M.shape\n",
    "    det = 0\n",
    "    for i in range(0,ncolumn):\n",
    "        temp = M\n",
    "        temp = np.delete(temp, (0), axis=0)\n",
    "        temp = np.delete(temp, (i), axis=1)\n",
    "        det += ((-1)**i)*M[0,i]*((temp[0,0]*temp[1,1])-(temp[1,0]*temp[0,1])) \n",
    "    return det\n",
    "\n",
    "\n",
    "# version 2 recursion\n",
    "def deter_rec(M):\n",
    "    (nrow,ncolumn) = M.shape\n",
    "    det = 0\n",
    "    if (nrow == 1):\n",
    "        return M[0,0]\n",
    "    else:\n",
    "        for i in range(0,ncolumn):\n",
    "            temp = M\n",
    "            temp = np.delete(temp, (0), axis=0)\n",
    "            temp = np.delete(temp, (i), axis=1)\n",
    "            det += ((-1)**i)*M[0,i]*deter_rec(temp)\n",
    "    return det\n",
    "    "
   ]
  },
  {
   "cell_type": "code",
   "execution_count": null,
   "metadata": {},
   "outputs": [],
   "source": []
  },
  {
   "cell_type": "code",
   "execution_count": 4,
   "metadata": {},
   "outputs": [
    {
     "name": "stdout",
     "output_type": "stream",
     "text": [
      "3\n",
      "3\n"
     ]
    }
   ],
   "source": [
    "import numpy as np\n",
    "\n",
    "B = np.matrix([[1,3,1],\n",
    "               [4,2,1],\n",
    "               [10,1,1]\n",
    "              ])\n",
    "print(deter_rec(B))\n",
    "print(deter_loop(B))"
   ]
  },
  {
   "cell_type": "code",
   "execution_count": 5,
   "metadata": {},
   "outputs": [],
   "source": [
    "# Task 8 Minor, Cofactor, Adjoint, and Inverse\n",
    "import numpy as np\n",
    "# Minor\n",
    "def minor(A):\n",
    "    (nrow,ncolumn) = A.shape\n",
    "    M = A.copy()\n",
    "    for i in range(0,nrow):\n",
    "        for j in range(0,ncolumn):\n",
    "            temp = np.delete(A, (i), axis=0)\n",
    "            temp = np.delete(temp, (j), axis=1)\n",
    "            M[i,j] = deter_rec(temp)\n",
    "#     print('Minor: ',np.matrix(M))\n",
    "    return M\n",
    "\n",
    "\n",
    "# Cofactor\n",
    "def cofactor(A):\n",
    "    (nrow,ncolumn) = A.shape\n",
    "    M = minor(A)\n",
    "    for i in range(0,nrow):\n",
    "        for j in range(0,ncolumn):\n",
    "            M[i,j] = M[i,j]*((-1)**(i+j))\n",
    "#     print(np.matrix(M))\n",
    "    return M\n",
    "\n",
    "\n",
    "# adjoint\n",
    "def adjoint(A):\n",
    "#     print( np.matrix(transpose(cofactor(A))) )\n",
    "    return transpose(cofactor(A))\n",
    "\n",
    "\n",
    "# Inverse\n",
    "def inverse(A):\n",
    "    (nrow,ncolumn) = A.shape\n",
    "    det = deter_rec(A)\n",
    "    adj = adjoint(A)\n",
    "    for i in range(0,nrow):\n",
    "        for j in range(0,ncolumn):\n",
    "            adj[i][j] = float(adj[i][j]/det) \n",
    "#     print('Inv',np.matrix(adj))\n",
    "    return adj\n",
    "    "
   ]
  },
  {
   "cell_type": "code",
   "execution_count": 9,
   "metadata": {},
   "outputs": [
    {
     "data": {
      "text/plain": [
       "matrix([[ 7, -4,  1],\n",
       "        [ 2, 12, -3],\n",
       "        [-4, -1,  6]])"
      ]
     },
     "execution_count": 9,
     "metadata": {},
     "output_type": "execute_result"
    }
   ],
   "source": [
    "A = np.matrix([[3,0,2],\n",
    "               [1,2,1],\n",
    "               [0,1,4]\n",
    "              ])\n",
    "minor(A)\n",
    "cofactor(A)\n",
    "\n"
   ]
  },
  {
   "cell_type": "code",
   "execution_count": 9,
   "metadata": {
    "scrolled": true
   },
   "outputs": [
    {
     "name": "stdout",
     "output_type": "stream",
     "text": [
      "Inv of C:\n",
      " [[-0.    0.25 -0.5   0.5 ]\n",
      " [-1.   -0.25  0.5   0.5 ]\n",
      " [ 2.   -0.25 -0.5  -0.5 ]\n",
      " [-0.    0.25  0.5  -0.5 ]]\n"
     ]
    }
   ],
   "source": [
    "C = np.matrix([[1,1,1,1],\n",
    "               [2,0,0,2],\n",
    "               [1,2,1,2],\n",
    "               [2,2,1,1]\n",
    "              ])\n",
    "\n",
    "B = np.matrix([[3,0,2],\n",
    "               [2,0,-2],\n",
    "               [0,1,1]\n",
    "              ])\n",
    "\n",
    "# print( np.matrix(inverse(B)) )\n",
    "print( 'Inv of C:\\n',np.matrix(inverse(C)) )"
   ]
  },
  {
   "cell_type": "code",
   "execution_count": 11,
   "metadata": {},
   "outputs": [
    {
     "data": {
      "text/plain": [
       "-4"
      ]
     },
     "execution_count": 11,
     "metadata": {},
     "output_type": "execute_result"
    }
   ],
   "source": [
    "deter_rec(C)"
   ]
  },
  {
   "cell_type": "code",
   "execution_count": null,
   "metadata": {},
   "outputs": [],
   "source": []
  }
 ],
 "metadata": {
  "kernelspec": {
   "display_name": "Python 3",
   "language": "python",
   "name": "python3"
  },
  "language_info": {
   "codemirror_mode": {
    "name": "ipython",
    "version": 3
   },
   "file_extension": ".py",
   "mimetype": "text/x-python",
   "name": "python",
   "nbconvert_exporter": "python",
   "pygments_lexer": "ipython3",
   "version": "3.8.3"
  }
 },
 "nbformat": 4,
 "nbformat_minor": 4
}
