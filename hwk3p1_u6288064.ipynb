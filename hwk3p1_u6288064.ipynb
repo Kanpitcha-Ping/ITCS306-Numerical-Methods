{
 "cells": [
  {
   "cell_type": "code",
   "execution_count": 4,
   "metadata": {},
   "outputs": [],
   "source": [
    "# define function (f)\n",
    "def  f(x):\n",
    "    return x**3 - 6*(x**2) + 4*x + 12"
   ]
  },
  {
   "cell_type": "code",
   "execution_count": 5,
   "metadata": {},
   "outputs": [],
   "source": [
    "# Task 1 Method 2: Divide and conquer\n",
    "\n",
    "import numpy as np\n",
    "\n",
    "def interval_search(f, l, u, n, p, ea, xr, c):     \n",
    "    \n",
    "    es = 0.5 * (10**(2 - p))\n",
    "    prev_xr = xr\n",
    "    \n",
    "    x = np.linspace(l, u, n)\n",
    "    if (ea > es):\n",
    "        for i in range(0,n-1):\n",
    "            if ( f( x[i]) * f(x[i+1]) > 0 ):\n",
    "                pass\n",
    "            else:\n",
    "                xr = ( x[i] + x[i+1] ) / 2\n",
    "                ea = ( abs(xr - prev_xr) / xr )*100\n",
    "                l = x[i] # set new interval\n",
    "                u = x[i+1]\n",
    "                print('#{}: This interval [{},{}] contains a root'.format(c, x[i], x[i+1]))\n",
    "                print('#{}: Estimated root is {}'.format(c, xr))\n",
    "                c += 1\n",
    "                interval_search(f, l, u, n, p, ea, xr, c)\n",
    "                ea = 100 # reset ea\n",
    "                c = 0\n",
    "    else:\n",
    "        print(\"--------------------------Finish Recursive----------------------------\")\n",
    "        \n",
    "            \n"
   ]
  },
  {
   "cell_type": "code",
   "execution_count": 7,
   "metadata": {},
   "outputs": [
    {
     "name": "stdout",
     "output_type": "stream",
     "text": [
      "#0: This interval [2.5,3.0] contains a root\n",
      "#0: Estimated root is 2.75\n",
      "#1: This interval [2.5,2.55] contains a root\n",
      "#1: Estimated root is 2.525\n",
      "#2: This interval [2.515,2.52] contains a root\n",
      "#2: Estimated root is 2.5175\n",
      "#3: This interval [2.517,2.5175] contains a root\n",
      "#3: Estimated root is 2.5172499999999998\n",
      "#4: This interval [2.5173,2.51735] contains a root\n",
      "#4: Estimated root is 2.517325\n",
      "--------------------------Finish Recursive----------------------------\n",
      "#0: This interval [4.5,5.0] contains a root\n",
      "#0: Estimated root is 4.75\n",
      "#1: This interval [4.5,4.55] contains a root\n",
      "#1: Estimated root is 4.525\n",
      "#2: This interval [4.53,4.535] contains a root\n",
      "#2: Estimated root is 4.532500000000001\n",
      "#3: This interval [4.534,4.5345] contains a root\n",
      "#3: Estimated root is 4.53425\n",
      "#4: This interval [4.53405,4.5341] contains a root\n",
      "#4: Estimated root is 4.534075\n",
      "--------------------------Finish Recursive----------------------------\n"
     ]
    }
   ],
   "source": [
    "interval_search(f,0,5,11,4,100,0,0)"
   ]
  },
  {
   "cell_type": "markdown",
   "metadata": {},
   "source": []
  },
  {
   "cell_type": "code",
   "execution_count": 61,
   "metadata": {},
   "outputs": [],
   "source": [
    "# Task 2 Method 3: Bisection\n",
    "\n",
    "import numpy as np\n",
    "\n",
    "def bisection_search(f, l, u, n, p):\n",
    "    \n",
    "    es = 0.5 * (10**(2 - p))\n",
    "    ea = 100\n",
    "    c = xr = 0\n",
    "    \n",
    "    x = np.linspace(l, u, n)\n",
    "    for i in range(0,n-1):\n",
    "        if ( f(x[i]) * f(x[i+1]) > 0 ):\n",
    "            pass\n",
    "        else:\n",
    "            l = x[i]\n",
    "            u = x[i+1]\n",
    "            print('Initial bracket [{},{}]'.format(l, u))\n",
    "            # do bisection search on this interval\n",
    "            \n",
    "            while (ea > es):\n",
    "                prev_xr = xr\n",
    "                xr = ( l + u ) / 2\n",
    "                if ( f(l) * f(xr) < 0): # Left-side contains the root\n",
    "                    print('#{}: [{},{}] Left-side contains a root'.format(c, l, u))\n",
    "                    print('#{}: Estimated root is {}'.format(c, xr))\n",
    "                    u = xr\n",
    "                else: # Right-side contains the root\n",
    "                    print('#{}: [{},{}] Right-side contains a root'.format(c, l, u))\n",
    "                    print('#{}: Estimated root is {}'.format(c, xr))\n",
    "                    l = xr\n",
    "                c += 1\n",
    "                ea = ( abs(xr - prev_xr) / xr )*100\n",
    "            print(\"------------------------------------------------------------------\")\n",
    "            # finish doing bisection search on this interval\n",
    "        # end-if\n",
    "        ea = 100 # reset ea\n",
    "        c = 0\n",
    "    # end-for"
   ]
  },
  {
   "cell_type": "code",
   "execution_count": 62,
   "metadata": {},
   "outputs": [
    {
     "name": "stdout",
     "output_type": "stream",
     "text": [
      "Initial bracket [2.5,3.0]\n",
      "#0: [2.5,3.0] Left-side contains a root\n",
      "#0: Estimated root is 2.75\n",
      "#1: [2.5,2.75] Left-side contains a root\n",
      "#1: Estimated root is 2.625\n",
      "#2: [2.5,2.625] Left-side contains a root\n",
      "#2: Estimated root is 2.5625\n",
      "#3: [2.5,2.5625] Left-side contains a root\n",
      "#3: Estimated root is 2.53125\n",
      "#4: [2.5,2.53125] Right-side contains a root\n",
      "#4: Estimated root is 2.515625\n",
      "#5: [2.515625,2.53125] Left-side contains a root\n",
      "#5: Estimated root is 2.5234375\n",
      "#6: [2.515625,2.5234375] Left-side contains a root\n",
      "#6: Estimated root is 2.51953125\n",
      "#7: [2.515625,2.51953125] Left-side contains a root\n",
      "#7: Estimated root is 2.517578125\n",
      "#8: [2.515625,2.517578125] Right-side contains a root\n",
      "#8: Estimated root is 2.5166015625\n",
      "#9: [2.5166015625,2.517578125] Right-side contains a root\n",
      "#9: Estimated root is 2.51708984375\n",
      "#10: [2.51708984375,2.517578125] Left-side contains a root\n",
      "#10: Estimated root is 2.517333984375\n",
      "#11: [2.51708984375,2.517333984375] Right-side contains a root\n",
      "#11: Estimated root is 2.5172119140625\n",
      "------------------------------------------------------------------\n",
      "Initial bracket [4.5,5.0]\n",
      "#0: [4.5,5.0] Left-side contains a root\n",
      "#0: Estimated root is 4.75\n",
      "#1: [4.5,4.75] Left-side contains a root\n",
      "#1: Estimated root is 4.625\n",
      "#2: [4.5,4.625] Left-side contains a root\n",
      "#2: Estimated root is 4.5625\n",
      "#3: [4.5,4.5625] Right-side contains a root\n",
      "#3: Estimated root is 4.53125\n",
      "#4: [4.53125,4.5625] Left-side contains a root\n",
      "#4: Estimated root is 4.546875\n",
      "#5: [4.53125,4.546875] Left-side contains a root\n",
      "#5: Estimated root is 4.5390625\n",
      "#6: [4.53125,4.5390625] Left-side contains a root\n",
      "#6: Estimated root is 4.53515625\n",
      "#7: [4.53125,4.53515625] Right-side contains a root\n",
      "#7: Estimated root is 4.533203125\n",
      "#8: [4.533203125,4.53515625] Left-side contains a root\n",
      "#8: Estimated root is 4.5341796875\n",
      "#9: [4.533203125,4.5341796875] Right-side contains a root\n",
      "#9: Estimated root is 4.53369140625\n",
      "#10: [4.53369140625,4.5341796875] Right-side contains a root\n",
      "#10: Estimated root is 4.533935546875\n",
      "#11: [4.533935546875,4.5341796875] Right-side contains a root\n",
      "#11: Estimated root is 4.5340576171875\n",
      "------------------------------------------------------------------\n"
     ]
    }
   ],
   "source": [
    "bisection_search(f,0,5,11,4)"
   ]
  },
  {
   "cell_type": "markdown",
   "metadata": {},
   "source": []
  },
  {
   "cell_type": "code",
   "execution_count": 2,
   "metadata": {},
   "outputs": [],
   "source": [
    "# Task 3 Method 4: False Positions\n",
    "\n",
    "def FalsePosition_search(f, l, u, n, p):\n",
    "    \n",
    "    es = 0.5 * (10**(2 - p))\n",
    "    prev_xr = 0\n",
    "    \n",
    "    x = np.linspace(l, u, n)\n",
    "    \n",
    "    for i in range(0,n-1):\n",
    "        ea = 100\n",
    "        c = 0\n",
    "        if ( f(x[i]) * f(x[i+1]) > 0 ):\n",
    "            pass\n",
    "        else:\n",
    "            xl = x[i]\n",
    "            xu = x[i+1]\n",
    "            while (ea > es):\n",
    "                xr = xu - f(xu) * ( (xu - xl) / ( f(xu) - f(xl) ) )\n",
    "                ea = ( abs(xr - prev_xr) / xr )*100\n",
    "                print('#{}: Interval [{},{}] contains the root'.format(c, xl, xu))\n",
    "                print('#{}: Estimated root: {}, ea = {}'.format(c, xr,ea))\n",
    "                if ( f(xl) * f(xr) < 0 ):\n",
    "                    xu = xr\n",
    "                else: \n",
    "                    xl = xr\n",
    "                prev_xr = xr\n",
    "                c += 1\n",
    "            print('------------------------------------------------------------------')      \n",
    "    \n",
    "    "
   ]
  },
  {
   "cell_type": "code",
   "execution_count": 4,
   "metadata": {},
   "outputs": [
    {
     "name": "stdout",
     "output_type": "stream",
     "text": [
      "#0: Interval [1.1111111111111112,1.2222222222222223] contains the root\n",
      "#0: Estimated root: 1.161793372319688, ea = 100.0\n",
      "#1: Interval [1.161793372319688,1.2222222222222223] contains the root\n",
      "#1: Estimated root: 1.162273112807464, ea = 0.04127605486950233\n",
      "#2: Interval [1.162273112807464,1.2222222222222223] contains the root\n",
      "#2: Estimated root: 1.1622776174728264, ea = 0.0003875722370270043\n",
      "------------------------------------------------------------------\n"
     ]
    }
   ],
   "source": [
    "# FalsePosition_search(f, 0, 5, 11, 4)\n",
    "import numpy as np\n",
    "def h(x):\n",
    "    return  x**2 + 4*x - 6\n",
    "\n",
    "FalsePosition_search(h, 1, 2, 10, 4)"
   ]
  },
  {
   "cell_type": "markdown",
   "metadata": {},
   "source": []
  }
 ],
 "metadata": {
  "kernelspec": {
   "display_name": "Python 3",
   "language": "python",
   "name": "python3"
  },
  "language_info": {
   "codemirror_mode": {
    "name": "ipython",
    "version": 3
   },
   "file_extension": ".py",
   "mimetype": "text/x-python",
   "name": "python",
   "nbconvert_exporter": "python",
   "pygments_lexer": "ipython3",
   "version": "3.8.3"
  }
 },
 "nbformat": 4,
 "nbformat_minor": 4
}
