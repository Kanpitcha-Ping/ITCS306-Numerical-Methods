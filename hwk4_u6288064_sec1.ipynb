{
 "cells": [
  {
   "cell_type": "code",
   "execution_count": 1,
   "metadata": {},
   "outputs": [],
   "source": [
    "# Functions\n",
    "\n",
    "import math\n",
    "\n",
    "# Task 1\n",
    "\n",
    "def f1(x):\n",
    "    return x**3 - 4*x**2 - 4*x + 16 \n",
    "\n",
    "def df1(x):\n",
    "    return 3*x**2 - 8*x - 4\n",
    "\n",
    "# Task 2\n",
    "\n",
    "# f2(x) = x^2 - 2x - 3\n",
    "# x = (x^2 - 3)/2 ; f2(x) = 0\n",
    "def f2(x):\n",
    "    return x**2 - 2*x - 3\n",
    "def f_2(x):\n",
    "    return (x**2 - 3)/2\n",
    "def df2(x):\n",
    "    return 2*x - 2\n",
    "\n",
    "# f3(x) = e^(-x) - x\n",
    "# x = e^(-x) ; f3(x) = 0\n",
    "def f3(x):\n",
    "    return math.e**(-x) - x\n",
    "def f_3(x):\n",
    "    return math.e**(-x) \n",
    "def df3(x):\n",
    "    return (-1)*math.e**(-x) - 1\n",
    "\n",
    "# f4(x) = sin(2*pi*x) + e^(1.2x) + x - 2.5\n",
    "# x = 2.5 - sin(2*pi*x) - e^(1.2x) ; f4(x) = 0\n",
    "def f4(x):\n",
    "    return math.sin(2*math.pi*x) + math.e**(1.2*x) + x - 2.5\n",
    "def f_4(x):\n",
    "    return 2.5 - math.sin(2*math.pi*x) - math.e**(1.2*x)  \n",
    "def df4(x):\n",
    "    return math.cos(2*math.pi*x)*2*math.pi + 1.2*math.e**(1.2*x) + 1\n",
    "    "
   ]
  },
  {
   "cell_type": "code",
   "execution_count": 15,
   "metadata": {},
   "outputs": [],
   "source": [
    "# Task 1 Newton-Raphson\n",
    "\n",
    "def Newton_solve(f, df, x0, p):\n",
    "    \n",
    "    ea = 100\n",
    "    es = 0.5 * (10**(2-p))\n",
    "    prev_xr = 0\n",
    "    xr = x0\n",
    "    c = 1\n",
    "    print('Initial x0: {}'.format(x0))\n",
    "    while (ea > es):\n",
    "#         print(df(xr))\n",
    "        xr = xr - (f(xr)/df(xr))\n",
    "        ea = abs( (xr - prev_xr)/xr )  * 100\n",
    "        print('#{}: Estimated solution: {}, ea = {}'.format(c, xr, ea))\n",
    "        prev_xr = xr\n",
    "        c += 1\n",
    "    \n",
    "    print('-------------------------------------------------------------------')\n",
    "    return xr "
   ]
  },
  {
   "cell_type": "code",
   "execution_count": 3,
   "metadata": {},
   "outputs": [
    {
     "name": "stdout",
     "output_type": "stream",
     "text": [
      "Initial x0: -1.5\n",
      "#1: Estimated solution: -2.152542372881356, ea = 100.0\n",
      "#2: Estimated solution: -2.008841631069802, ea = 7.1534131705059565\n",
      "#3: Estimated solution: -2.00003239130595, ea = 0.44045485473863016\n",
      "#4: Estimated solution: -2.0000000004371565, ea = 0.0016195434393141948\n",
      "-------------------------------------------------------------------\n",
      "Initial x0: 1.8\n",
      "#1: Estimated solution: 1.9926267281105992, ea = 100.0\n",
      "#2: Estimated solution: 1.9999865582086023, ea = 0.3679939781493008\n",
      "#3: Estimated solution: 1.9999999999548304, ea = 0.0006720873114192916\n",
      "-------------------------------------------------------------------\n",
      "Initial x0: 4.2\n",
      "#1: Estimated solution: 4.021932114882507, ea = 100.0\n",
      "#2: Estimated solution: 4.000313239069205, ea = 0.5404295744183352\n",
      "#3: Estimated solution: 4.000000065390287, ea = 0.007829341844951767\n",
      "#4: Estimated solution: 4.000000000000002, ea = 1.634757129664876e-06\n",
      "-------------------------------------------------------------------\n"
     ]
    }
   ],
   "source": [
    "x0 = [-1.5, 1.8, 4.2] \n",
    "\n",
    "for i in x0:\n",
    "    Newton_solve(f1, df1, i, 4)"
   ]
  },
  {
   "cell_type": "code",
   "execution_count": 4,
   "metadata": {},
   "outputs": [],
   "source": [
    "# Task 2 Fixed Point Iteration\n",
    "\n",
    "def FixedPoint_solve(f, x0, p):\n",
    "    ea = 100\n",
    "    es = 0.5 * (10**(2-p))\n",
    "    prev_xr = 0\n",
    "    xr = x0\n",
    "    c = 1\n",
    "    while (ea > es):\n",
    "        xr = f(xr)\n",
    "        ea = abs((xr-prev_xr)/xr) * 100\n",
    "        print('#{}: xr = {}, ea = {}'.format(c,xr,ea))\n",
    "        prev_xr = xr\n",
    "        c += 1"
   ]
  },
  {
   "cell_type": "code",
   "execution_count": 5,
   "metadata": {},
   "outputs": [
    {
     "name": "stdout",
     "output_type": "stream",
     "text": [
      "Initial x0: 0\n",
      "#1: Estimated solution: -1.5, ea = 100.0\n",
      "#2: Estimated solution: -1.05, ea = 42.85714285714285\n",
      "#3: Estimated solution: -1.000609756097561, ea = 4.936014625228512\n",
      "#4: Estimated solution: -1.0000000929222947, ea = 0.060966311861504356\n",
      "#5: Estimated solution: -1.000000000000002, ea = 9.292229274926437e-06\n",
      "-------------------------------------------------------------------\n",
      "Initial x0: 2\n",
      "#1: Estimated solution: 3.5, ea = 100.0\n",
      "#2: Estimated solution: 3.05, ea = 14.754098360655746\n",
      "#3: Estimated solution: 3.0006097560975613, ea = 1.6460069091647866\n",
      "#4: Estimated solution: 3.0000000929222947, ea = 0.020322105212759834\n",
      "#5: Estimated solution: 3.000000000000002, ea = 3.0974097509073296e-06\n",
      "-------------------------------------------------------------------\n"
     ]
    }
   ],
   "source": [
    "# f2(x) = x^2 - 2x - 3\n",
    "Newton_solve(f2, df2, 0, 4) \n",
    "Newton_solve(f2, df2, 2, 4)"
   ]
  },
  {
   "cell_type": "code",
   "execution_count": 6,
   "metadata": {},
   "outputs": [
    {
     "name": "stdout",
     "output_type": "stream",
     "text": [
      "#1: xr = 0.36787944117144233, ea = 100.0\n",
      "#2: xr = 0.6922006275553464, ea = 46.85363946133844\n",
      "#3: xr = 0.5004735005636368, ea = 38.30914659333314\n",
      "#4: xr = 0.6062435350855974, ea = 17.446789681151248\n",
      "#5: xr = 0.545395785975027, ea = 11.156622525381316\n",
      "#6: xr = 0.5796123355033789, ea = 5.9033508144086735\n",
      "#7: xr = 0.5601154613610891, ea = 3.480866979624528\n",
      "#8: xr = 0.571143115080177, ea = 1.9308039312598229\n",
      "#9: xr = 0.5648793473910495, ea = 1.1088682420515694\n",
      "#10: xr = 0.5684287250290607, ea = 0.6244191191832817\n",
      "#11: xr = 0.5664147331468833, ea = 0.35556841379956905\n",
      "#12: xr = 0.5675566373282835, ea = 0.20119651613549186\n",
      "#13: xr = 0.5669089119214953, ea = 0.11425564022143186\n",
      "#14: xr = 0.5672762321755697, ea = 0.06475156779716675\n",
      "#15: xr = 0.5670678983907883, ea = 0.036738772441988095\n",
      "#16: xr = 0.5671860500993571, ea = 0.020831208480545794\n",
      "#17: xr = 0.5671190400572149, ea = 0.011815868875676731\n",
      "#18: xr = 0.5671570440012975, ea = 0.00670077970194647\n",
      "#19: xr = 0.5671354902062784, ea = 0.003800466624170186\n"
     ]
    }
   ],
   "source": [
    "# f3(x) = e^(-x) - x\n",
    "FixedPoint_solve(f_3, 1, 4) # f_3 = e^(-x)"
   ]
  },
  {
   "cell_type": "code",
   "execution_count": 7,
   "metadata": {
    "scrolled": true
   },
   "outputs": [
    {
     "name": "stdout",
     "output_type": "stream",
     "text": [
      "Initial x0: 0\n",
      "#1: Estimated solution: 0.17682037415008522, ea = 100.0\n",
      "#2: Estimated solution: 0.2129859914728987, ea = 16.9802798168608\n",
      "#3: Estimated solution: 0.2186697762273898, ea = 2.599254845617377\n",
      "#4: Estimated solution: 0.21882604544356993, ea = 0.07141253037925697\n",
      "#5: Estimated solution: 0.21882616436267346, ea = 5.4344097234909584e-05\n",
      "-------------------------------------------------------------------\n",
      "Initial x0: 0.4\n",
      "#1: Estimated solution: 0.4484439369483434, ea = 100.0\n",
      "#2: Estimated solution: 0.44139475515072885, ea = 1.5970243677243898\n",
      "#3: Estimated solution: 0.44130099406232076, ea = 0.021246516475066715\n",
      "#4: Estimated solution: 0.441300975731014, ea = 4.153923910991616e-06\n",
      "-------------------------------------------------------------------\n",
      "Initial x0: 1\n",
      "#1: Estimated solution: 0.8384606085759932, ea = 100.0\n",
      "#2: Estimated solution: 0.8089701543938508, ea = 3.645431666665036\n",
      "#3: Estimated solution: 0.8063639190534003, ea = 0.3232083280102546\n",
      "#4: Estimated solution: 0.8063421202643805, ea = 0.0027034168837316167\n",
      "-------------------------------------------------------------------\n"
     ]
    }
   ],
   "source": [
    "# f4(x) = sin(2*pi*x) + e^(1.2x) + x - 2.5\n",
    "Newton_solve(f4, df4, 0, 4) \n",
    "Newton_solve(f4, df4, 0.4, 4)\n",
    "Newton_solve(f4, df4, 1, 4)"
   ]
  },
  {
   "cell_type": "code",
   "execution_count": 21,
   "metadata": {},
   "outputs": [
    {
     "name": "stdout",
     "output_type": "stream",
     "text": [
      "Initial x0: 8\n",
      "#1: Estimated solution: 17.586956521739125, ea = 100.0\n",
      "#2: Estimated solution: 13.57850979989669, ea = 29.520520152166725\n",
      "#3: Estimated solution: 12.501020928152723, ea = 8.619207006664753\n",
      "#4: Estimated solution: 12.410014486734903, ea = 0.7333306622252278\n",
      "#5: Estimated solution: 12.409355871538757, ea = 0.005307408401886735\n",
      "#6: Estimated solution: 12.409355837040554, ea = 2.7800156477172784e-07\n",
      "-------------------------------------------------------------------\n",
      "\n",
      "The time that it will hit the ground is 12.409355837040554 sec.\n"
     ]
    }
   ],
   "source": [
    "def h(x):\n",
    "    return -4.9*x**2 + 60*x + 10\n",
    "\n",
    "def dh(x):\n",
    "    return -9.8*x + 60\n",
    "\n",
    "time_at_ground = Newton_solve(h, dh, 8, 4) # y = 0\n",
    "print(\"\\nThe time that it will hit the ground is {} sec.\".format(time_at_ground))\n"
   ]
  }
 ],
 "metadata": {
  "kernelspec": {
   "display_name": "Python 3",
   "language": "python",
   "name": "python3"
  },
  "language_info": {
   "codemirror_mode": {
    "name": "ipython",
    "version": 3
   },
   "file_extension": ".py",
   "mimetype": "text/x-python",
   "name": "python",
   "nbconvert_exporter": "python",
   "pygments_lexer": "ipython3",
   "version": "3.8.3"
  }
 },
 "nbformat": 4,
 "nbformat_minor": 4
}
