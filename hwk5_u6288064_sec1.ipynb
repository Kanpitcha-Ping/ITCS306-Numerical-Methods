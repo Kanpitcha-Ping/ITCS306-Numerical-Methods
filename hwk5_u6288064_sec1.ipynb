{
 "cells": [
  {
   "cell_type": "code",
   "execution_count": 1,
   "metadata": {},
   "outputs": [],
   "source": [
    "import math\n",
    "\n",
    "def f(x):\n",
    "    return x*(1-x)*math.e**x\n",
    "\n",
    "def g(x):\n",
    "    return x**5 - 3*x**4 + 5"
   ]
  },
  {
   "cell_type": "code",
   "execution_count": 2,
   "metadata": {},
   "outputs": [],
   "source": [
    "# Method 1 Equal Interval Search\n",
    "\n",
    "# Find maximum\n",
    "\n",
    "def Eq_Interval_SearchMax(f, a, b, p):\n",
    "    \n",
    "    ea = 100\n",
    "    es = 0.5*10**(2-p)\n",
    "    esp = (b-a)/10\n",
    "    xmax = 0\n",
    "    c = 1\n",
    "    \n",
    "    while (abs(ea) > es):\n",
    "        \n",
    "        prev_xmax = xmax\n",
    "        alpha = (a + b - esp)/2\n",
    "        beta = (a + b + esp)/2\n",
    "        \n",
    "        if (f(alpha) > f(beta)):\n",
    "            b = beta\n",
    "        else:\n",
    "            a = alpha\n",
    "        \n",
    "        xmax = (a + b)/2\n",
    "        ea = abs((xmax - prev_xmax)/xmax)*100\n",
    "        print('#{} xmax = {}, ea = {}'.format(c, xmax, ea))\n",
    "        c += 1\n",
    "    \n",
    "    return xmax\n",
    "        "
   ]
  },
  {
   "cell_type": "code",
   "execution_count": 5,
   "metadata": {},
   "outputs": [
    {
     "name": "stdout",
     "output_type": "stream",
     "text": [
      "#1 xmax = 6.8, ea = 100.0\n",
      "#2 xmax = 5.9, ea = 15.254237288135583\n",
      "#3 xmax = 6.35, ea = 7.086614173228336\n",
      "#4 xmax = 6.125, ea = 3.6734693877550963\n",
      "#5 xmax = 6.0125, ea = 1.871101871101868\n",
      "#6 xmax = 6.06875, ea = 0.926879505664255\n",
      "#7 xmax = 6.096875, ea = 0.4613018964633551\n",
      "#8 xmax = 6.1109375, ea = 0.23012017386858452\n",
      "#9 xmax = 6.11796875, ea = 0.11492785084918622\n",
      "#10 xmax = 6.121484375, ea = 0.05743092336161468\n",
      "#11 xmax = 6.1232421875, ea = 0.028707218270552483\n",
      "#12 xmax = 6.122363281249999, ea = 0.014355669691999836\n",
      "#13 xmax = 6.122802734375, ea = 0.0071773196698549\n",
      "#14 xmax = 6.1225830078125, ea = 0.0035887886243433724\n",
      "\n",
      "The highest point is 193.67346929973365 at the time 6.1225830078125\n"
     ]
    }
   ],
   "source": [
    "def h(x):\n",
    "    return -4.9*x**2 + 60*x + 10\n",
    "\n",
    "# Using Equation Interval for seaching maximum point\n",
    "time = Eq_Interval_SearchMax(h, 1, 9, 4)\n",
    "highest_point = h(time)\n",
    "print(\"\\nThe highest point is {} at the time {}\".format(highest_point,time))"
   ]
  },
  {
   "cell_type": "code",
   "execution_count": 58,
   "metadata": {},
   "outputs": [
    {
     "name": "stdout",
     "output_type": "stream",
     "text": [
      "#1 xmax = 0.55, ea = 100.0\n",
      "#2 xmax = 0.7750000000000001, ea = 29.032258064516135\n",
      "#3 xmax = 0.6625000000000001, ea = 16.981132075471702\n",
      "#4 xmax = 0.6062500000000001, ea = 9.27835051546392\n",
      "#5 xmax = 0.6343750000000001, ea = 4.433497536945823\n",
      "#6 xmax = 0.6203125, ea = 2.267002518891702\n",
      "#7 xmax = 0.61328125, ea = 1.1464968152866315\n",
      "#8 xmax = 0.6097656250000001, ea = 0.576553491351683\n",
      "#9 xmax = 0.6115234375, ea = 0.28744809964866724\n",
      "#10 xmax = 0.61240234375, ea = 0.1435177802583284\n",
      "#11 xmax = 0.612841796875, ea = 0.071707433670613\n",
      "#12 xmax = 0.6130615234375, ea = 0.035840866552510495\n",
      "#13 xmax = 0.61317138671875, ea = 0.01791722243237335\n",
      "#14 xmax = 0.613226318359375, ea = 0.008957808720920824\n",
      "#15 xmax = 0.6131988525390626, ea = 0.004479104975279407\n"
     ]
    },
    {
     "data": {
      "text/plain": [
       "0.6131988525390626"
      ]
     },
     "execution_count": 58,
     "metadata": {},
     "output_type": "execute_result"
    }
   ],
   "source": [
    "# Task 1 find maximum of y = x(1-x)e^x from x = 0 to 2 using Equal Interval Search\n",
    "\n",
    "Eq_Interval_SearchMax(f, 0, 2, 4)"
   ]
  },
  {
   "cell_type": "code",
   "execution_count": 59,
   "metadata": {},
   "outputs": [],
   "source": [
    "# Method 1 Equal Interval Search\n",
    "\n",
    "# Find minimum\n",
    "\n",
    "def Eq_Interval_SearchMin(f, a, b, p):\n",
    "    \n",
    "    ea = 100\n",
    "    es = 0.5*10**(2-p)\n",
    "    esp = (b-a)/10\n",
    "    xmin = 0\n",
    "    c = 1\n",
    "    \n",
    "    while (abs(ea) > es):\n",
    "        \n",
    "        prev_xmin = xmin\n",
    "        alpha = (a + b - esp)/2\n",
    "        beta = (a + b + esp)/2\n",
    "        \n",
    "        if (f(alpha) < f(beta)):\n",
    "            b = beta\n",
    "        else:\n",
    "            a = alpha\n",
    "        \n",
    "        xmin = (a + b)/2\n",
    "        ea = abs((xmin - prev_xmin)/xmin)*100\n",
    "        print('#{} xmin = {}, ea = {}'.format(c, xmin, ea))\n",
    "        c += 1\n",
    "    \n",
    "    return xmin"
   ]
  },
  {
   "cell_type": "code",
   "execution_count": 60,
   "metadata": {},
   "outputs": [
    {
     "name": "stdout",
     "output_type": "stream",
     "text": [
      "#1 xmin = 2.9, ea = 100.0\n",
      "#2 xmin = 2.45, ea = 18.367346938775498\n",
      "#3 xmin = 2.225, ea = 10.112359550561802\n",
      "#4 xmin = 2.3375000000000004, ea = 4.812834224598942\n",
      "#5 xmin = 2.3937500000000003, ea = 2.349869451697124\n",
      "#6 xmin = 2.3656250000000005, ea = 1.1889035667106886\n",
      "#7 xmin = 2.3796875, ea = 0.5909389363098996\n",
      "#8 xmin = 2.38671875, ea = 0.2945990180032659\n",
      "#9 xmin = 2.383203125, ea = 0.14751680052450045\n",
      "#10 xmin = 2.3849609375, ea = 0.07370403734336775\n",
      "#11 xmin = 2.38408203125, ea = 0.03686560439108819\n",
      "#12 xmin = 2.3836425781250004, ea = 0.01843620050391536\n",
      "#13 xmin = 2.3834228515625, ea = 0.009218950064035393\n",
      "#14 xmin = 2.38331298828125, ea = 0.004609687514412727\n"
     ]
    },
    {
     "data": {
      "text/plain": [
       "2.38331298828125"
      ]
     },
     "execution_count": 60,
     "metadata": {},
     "output_type": "execute_result"
    }
   ],
   "source": [
    "# Task 2 Find minimum of y = x^5 - 3x^4 + 5 from x = 0 to 4 using Equal Interval Search\n",
    "\n",
    "Eq_Interval_SearchMin(g, 0, 4, 4)"
   ]
  },
  {
   "cell_type": "code",
   "execution_count": 61,
   "metadata": {},
   "outputs": [],
   "source": [
    "# Method 2 Golden Section Search\n",
    "\n",
    "# Find minimum\n",
    "\n",
    "import math\n",
    "\n",
    "def Gold_Section_SearchMin(f, xl, xu, p):\n",
    "    \n",
    "    ea = 100\n",
    "    es = 0.5*10**(2-p)\n",
    "    phi = (1+math.sqrt(5))/2\n",
    "    xmin = 0\n",
    "    c = 1\n",
    "    \n",
    "    while (abs(ea) > es):\n",
    "        \n",
    "        prev_xmin = xmin\n",
    "        d = (phi - 1)*(xu - xl)\n",
    "        \n",
    "        x1 = xl + d\n",
    "        x2 = xu - d\n",
    "        \n",
    "        if (f(x1) < f(x2)):\n",
    "            xmin = x1\n",
    "            xl = x2\n",
    "        else:\n",
    "            xmin = x2\n",
    "            xu = x1\n",
    "\n",
    "        ea = (2-phi)*abs((xu - xl)/xmin)*100\n",
    "        print('#{} xmin = {}, ea = {}'.format(c, xmin, ea))\n",
    "        c += 1\n",
    "    \n",
    "    return xmin\n"
   ]
  },
  {
   "cell_type": "code",
   "execution_count": 62,
   "metadata": {},
   "outputs": [
    {
     "name": "stdout",
     "output_type": "stream",
     "text": [
      "#1 xmin = 2.4721359549995796, ea = 38.19660112501051\n",
      "#2 xmin = 2.472135954999579, ea = 23.606797749978973\n",
      "#3 xmin = 2.4721359549995796, ea = 14.58980337503154\n",
      "#4 xmin = 2.4721359549995796, ea = 9.016994374947426\n",
      "#5 xmin = 2.3343685400050473, ea = 5.901699437494744\n",
      "#6 xmin = 2.3343685400050473, ea = 3.6474508437578863\n",
      "#7 xmin = 2.386991009990747, ea = 2.204552500007254\n",
      "#8 xmin = 2.386991009990747, ea = 1.362488374988032\n",
      "#9 xmin = 2.3869910099907465, ea = 0.8420641250192148\n",
      "#10 xmin = 2.399413490051314, ea = 0.517729858237222\n",
      "#11 xmin = 2.3994134900513138, ea = 0.3199746493812714\n",
      "#12 xmin = 2.399413490051314, ea = 0.19775520885595763\n",
      "#13 xmin = 2.399413490051314, ea = 0.12221944052531368\n",
      "#14 xmin = 2.3994134900513138, ea = 0.07553576833063691\n",
      "#15 xmin = 2.4005336243796043, ea = 0.04666188871150379\n",
      "#16 xmin = 2.4005336243796043, ea = 0.028838633202977294\n",
      "#17 xmin = 2.400105771138163, ea = 0.017826432759192292\n",
      "#18 xmin = 2.4001057711381635, ea = 0.011017341343348658\n",
      "#19 xmin = 2.400105771138163, ea = 0.006809091415850701\n",
      "#20 xmin = 2.4000047686887895, ea = 0.004208427028625341\n"
     ]
    },
    {
     "data": {
      "text/plain": [
       "2.4000047686887895"
      ]
     },
     "execution_count": 62,
     "metadata": {},
     "output_type": "execute_result"
    }
   ],
   "source": [
    "# Task 3 Find minimum of g(x) = x^5 - 3x^4 + 5 from x = 0 to 4 using Golden Section Search\n",
    "\n",
    "Gold_Section_SearchMin(g, 0, 4, 4)\n"
   ]
  },
  {
   "cell_type": "code",
   "execution_count": 63,
   "metadata": {},
   "outputs": [],
   "source": [
    "# Method 2 Golden Section Search\n",
    "\n",
    "# Find maximum\n",
    "\n",
    "import math\n",
    "\n",
    "def Gold_Section_SearchMax(f, xl, xu, p):\n",
    "    \n",
    "    ea = 100\n",
    "    es = 0.5*10**(2-p)\n",
    "    phi = (1+math.sqrt(5))/2\n",
    "    xmax = 0\n",
    "    c = 1\n",
    "    \n",
    "    while (abs(ea) > es):\n",
    "        \n",
    "        prev_xmax = xmax\n",
    "        d = (phi - 1)*(xu - xl)\n",
    "        \n",
    "        x1 = xl + d\n",
    "        x2 = xu - d\n",
    "        \n",
    "        if (f(x1) > f(x2)):\n",
    "            xmax = x1\n",
    "            xl = x2\n",
    "        else:\n",
    "            xmax = x2\n",
    "            xu = x1\n",
    "\n",
    "        ea = (2-phi)*abs((xu - xl)/xmax)*100\n",
    "        print('#{} xmax = {}, ea = {}'.format(c, xmax, ea))\n",
    "        c += 1\n",
    "    \n",
    "    return xmax"
   ]
  },
  {
   "cell_type": "code",
   "execution_count": 64,
   "metadata": {},
   "outputs": [
    {
     "name": "stdout",
     "output_type": "stream",
     "text": [
      "#1 xmax = 0.7639320225002102, ea = 61.80339887498949\n",
      "#2 xmax = 0.4721359549995794, ea = 61.80339887498949\n",
      "#3 xmax = 0.4721359549995795, ea = 38.19660112501051\n",
      "#4 xmax = 0.583592135001262, ea = 19.098300562505262\n",
      "#5 xmax = 0.5835921350012618, ea = 11.803398874989488\n",
      "#6 xmax = 0.5835921350012618, ea = 7.294901687515773\n",
      "#7 xmax = 0.6099033699941117, ea = 4.314000592110801\n",
      "#8 xmax = 0.6099033699941115, ea = 2.666198993411647\n",
      "#9 xmax = 0.6099033699941115, ea = 1.6478015986991545\n",
      "#10 xmax = 0.6161146100243953, ea = 1.0081306187557844\n",
      "#11 xmax = 0.6161146100243953, ea = 0.6230589874905368\n",
      "#12 xmax = 0.6161146100243953, ea = 0.38507163126524746\n",
      "#13 xmax = 0.6175808848961101, ea = 0.23742232112016673\n",
      "#14 xmax = 0.6175808848961101, ea = 0.14673506414015555\n",
      "#15 xmax = 0.6175808848961101, ea = 0.09068725698001114\n",
      "#16 xmax = 0.6179270254395346, ea = 0.05601641119002261\n",
      "#17 xmax = 0.6179270254395346, ea = 0.03462004604322164\n",
      "#18 xmax = 0.6179270254395345, ea = 0.021396365146794123\n",
      "#19 xmax = 0.6180087381375514, ea = 0.013221932470262451\n",
      "#20 xmax = 0.6180087381375514, ea = 0.00817160366358087\n",
      "#21 xmax = 0.6180087381375515, ea = 0.005050328806688441\n",
      "#22 xmax = 0.6180280278889084, ea = 0.0031211774363727293\n"
     ]
    },
    {
     "data": {
      "text/plain": [
       "0.6180280278889084"
      ]
     },
     "execution_count": 64,
     "metadata": {},
     "output_type": "execute_result"
    }
   ],
   "source": [
    "# Task 4 Find maximum of f(x) = x(1-x)e^x from x = 0 to 2 using Golden Section Search\n",
    "\n",
    "Gold_Section_SearchMax(f, 0, 2, 4)"
   ]
  },
  {
   "cell_type": "code",
   "execution_count": 65,
   "metadata": {},
   "outputs": [],
   "source": [
    "# Method 3 Parabolic Interpolation\n",
    "\n",
    "# Find minimum\n",
    "\n",
    "def para_min(f, x1, x2, x3, p):\n",
    "    \n",
    "    ea = 100\n",
    "    es = 0.5*10**(2-p)\n",
    "    c = 1\n",
    "    prev_xmin = x2\n",
    "    \n",
    "    while (ea > es):\n",
    "        \n",
    "        alpha1 = (x2 - x1)*(x2 - x1)*(f(x2) - f(x3))\n",
    "        alpha2 = (x2 - x3)*(x2 - x3)*(f(x2) - f(x1))\n",
    "        beta1 = (x2 - x1)*(f(x2) - f(x3))\n",
    "        beta2 = (x2 - x3)*(f(x2) - f(x1))\n",
    "        gamma = (alpha1 - alpha2)/(beta1 - beta2)\n",
    "    \n",
    "        x4 = x2 - (0.5 * gamma)\n",
    "        \n",
    "        if (x4 < x2):\n",
    "            x1 = x2\n",
    "            x2 = x4\n",
    "        else:\n",
    "            x3 = x2\n",
    "            x2 = x4\n",
    "        \n",
    "        xmin = x4\n",
    "        ea = abs( (xmin - prev_xmin)/xmin )*100\n",
    "        print('#{} interval[{},{},{}], xmin = {}, ea = {}'.format(c, x1, x2, x3, xmin, ea))\n",
    "        prev_xmin = xmin\n",
    "        c += 1\n",
    "    \n",
    "    return xmin\n",
    "        "
   ]
  },
  {
   "cell_type": "code",
   "execution_count": 66,
   "metadata": {},
   "outputs": [
    {
     "name": "stdout",
     "output_type": "stream",
     "text": [
      "#1 interval[2,1.9666666666666666,3], xmin = 1.9666666666666666, ea = 1.6949152542372934\n",
      "#2 interval[2,2.243662469930777,1.9666666666666666], xmin = 2.243662469930777, ea = 12.345698471867586\n",
      "#3 interval[2,2.6751095904125775,2.243662469930777], xmin = 2.6751095904125775, ea = 16.1282035707277\n",
      "#4 interval[2.6751095904125775,2.3544740748424613,2.243662469930777], xmin = 2.3544740748424613, ea = 13.6181374429264\n",
      "#5 interval[2.6751095904125775,2.380535711654324,2.3544740748424613], xmin = 2.380535711654324, ea = 1.0947803338665931\n",
      "#6 interval[2.6751095904125775,2.393627398263722,2.380535711654324], xmin = 2.393627398263722, ea = 0.5469392027720921\n",
      "#7 interval[2.6751095904125775,2.397432713882014,2.393627398263722], xmin = 2.397432713882014, ea = 0.15872460554400772\n",
      "#8 interval[2.6751095904125775,2.3991092718078635,2.397432713882014], xmin = 2.3991092718078635, ea = 0.06988251621344152\n",
      "#9 interval[2.6751095904125775,2.3996549236283675,2.3991092718078635], xmin = 2.3996549236283675, ea = 0.02273876194161234\n",
      "#10 interval[2.6751095904125775,2.399876626487576,2.3996549236283675], xmin = 2.399876626487576, ea = 0.00923809402372896\n",
      "#11 interval[2.6751095904125775,2.399953224236768,2.399876626487576], xmin = 2.399953224236768, ea = 0.0031916350876482753\n"
     ]
    },
    {
     "data": {
      "text/plain": [
       "2.399953224236768"
      ]
     },
     "execution_count": 66,
     "metadata": {},
     "output_type": "execute_result"
    }
   ],
   "source": [
    "# Task 5 Find minimum of g(x) = x^5 - 3x^4 + 5 from x = 0 to 4 using Parabolic Interpolation\n",
    "\n",
    "para_min(g, 1, 2, 3, 4)"
   ]
  },
  {
   "cell_type": "code",
   "execution_count": 67,
   "metadata": {},
   "outputs": [],
   "source": [
    "# Method 3 Parabolic Interpolation\n",
    "\n",
    "# Find maximum\n",
    "\n",
    "def para_max(f, x1, x2, x3, p):\n",
    "    \n",
    "    ea = 100\n",
    "    es = 0.5*10**(2-p)\n",
    "    c = 1\n",
    "    prev_xmax = x2\n",
    "    \n",
    "    while (ea > es):\n",
    "        \n",
    "        alpha1 = (x2 - x1)*(x2 - x1)*(f(x2) - f(x3))\n",
    "        alpha2 = (x2 - x3)*(x2 - x3)*(f(x2) - f(x1))\n",
    "        beta1 = (x2 - x1)*(f(x2) - f(x3))\n",
    "        beta2 = (x2 - x3)*(f(x2) - f(x1))\n",
    "        gamma = (alpha1 - alpha2)/(beta1 - beta2)\n",
    "    \n",
    "        x4 = x2 - (0.5 * gamma)\n",
    "        \n",
    "        if (x4 > x2):\n",
    "            x1 = x2\n",
    "            x2 = x4\n",
    "        else:\n",
    "            x3 = x2\n",
    "            x2 = x4\n",
    "        \n",
    "        xmax = x4\n",
    "        ea = abs( (xmax - prev_xmax)/xmax )*100\n",
    "        print('#{} interval[{},{},{}], xmax = {}, ea = {}'.format(c, x1, x2, x3, xmax, ea))\n",
    "        prev_xmax = xmax\n",
    "        c += 1\n",
    "    \n",
    "    return xmax"
   ]
  },
  {
   "cell_type": "code",
   "execution_count": 68,
   "metadata": {},
   "outputs": [
    {
     "name": "stdout",
     "output_type": "stream",
     "text": [
      "#1 interval[0,0.4340897767414815,0.8], xmax = 0.4340897767414815, ea = 84.29367445721562\n",
      "#2 interval[0.4340897767414815,0.5900876167719911,0.8], xmax = 0.5900876167719911, ea = 26.436385986860465\n",
      "#3 interval[0.5900876167719911,0.6016326551012868,0.8], xmax = 0.6016326551012868, ea = 1.9189514118631277\n",
      "#4 interval[0.6016326551012868,0.6145814857513692,0.8], xmax = 0.6145814857513692, ea = 2.1069347109035483\n",
      "#5 interval[0.6145814857513692,0.6164434144908687,0.8], xmax = 0.6164434144908687, ea = 0.30204373925177364\n",
      "#6 interval[0.6164434144908687,0.6176288135923986,0.8], xmax = 0.6176288135923986, ea = 0.1919274288119961\n",
      "#7 interval[0.6176288135923986,0.6178732258218366,0.8], xmax = 0.6178732258218366, ea = 0.03955701901678071\n",
      "#8 interval[0.6178732258218366,0.6179883800319251,0.8], xmax = 0.6179883800319251, ea = 0.01863371768941918\n",
      "#9 interval[0.6179883800319251,0.6180173531487105,0.8], xmax = 0.6180173531487105, ea = 0.004688074960644465\n"
     ]
    },
    {
     "data": {
      "text/plain": [
       "0.6180173531487105"
      ]
     },
     "execution_count": 68,
     "metadata": {},
     "output_type": "execute_result"
    }
   ],
   "source": [
    "# Task 6 Find maximum of f(x) = x(1-x)e^x from x = 0 to 2 using Palabolic Interpolation\n",
    "\n",
    "para_max(f, 0, 0.8, 2, 4)"
   ]
  }
 ],
 "metadata": {
  "kernelspec": {
   "display_name": "Python 3",
   "language": "python",
   "name": "python3"
  },
  "language_info": {
   "codemirror_mode": {
    "name": "ipython",
    "version": 3
   },
   "file_extension": ".py",
   "mimetype": "text/x-python",
   "name": "python",
   "nbconvert_exporter": "python",
   "pygments_lexer": "ipython3",
   "version": "3.8.3"
  }
 },
 "nbformat": 4,
 "nbformat_minor": 4
}
