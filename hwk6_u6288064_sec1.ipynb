{
 "cells": [
  {
   "cell_type": "code",
   "execution_count": 4,
   "metadata": {},
   "outputs": [],
   "source": [
    "# Task 1: Row Operation\n",
    "\n",
    "def row_operation(m):\n",
    "    [row,col] = m.shape\n",
    "    nr = row\n",
    "    calM = m.copy()\n",
    "    v = 0\n",
    "    \n",
    "    # Row operaration\n",
    "    for i in range(nr-1, 0, -1):\n",
    "        for c in range(v,nr-1):\n",
    "            fac = calM[c,i]/calM[c+1,i]\n",
    "            new_eq = calM[c,:] - calM[c+1,:]*fac\n",
    "            calM = np.append(calM, new_eq, axis=0)\n",
    "            print(\"Operates ({})-({}):\".format(c+1, c+2))\n",
    "            print(calM[np.shape(calM)[0]-1,:])\n",
    "            v += 1\n",
    "        v += 1\n",
    "        [nr,nc] = calM.shape\n",
    "    \n",
    "    print(\"\\nThe result of row operation involves new equations:\")\n",
    "    print(calM)\n",
    "    \n",
    "    result = np.zeros((row,1)) # store the solution [a, b, c]\n",
    "#     print(result)\n",
    "    a = 0\n",
    "    \n",
    "    # Back substitution \n",
    "    for j in range(nr-1, 0, -2):\n",
    "        \n",
    "        sum_of_prod = 0\n",
    "        for x in range(0,row):\n",
    "            prod = calM[j,x]*result[x]\n",
    "            sum_of_prod += prod\n",
    "            \n",
    "#         print(\"sum: \",sum_of_prod)\n",
    "        result[a] = (calM[j,nc-1] - sum_of_prod)/calM[j,a]\n",
    "#         print(result[a])\n",
    "        a += 1\n",
    "    \n",
    "    return result\n"
   ]
  },
  {
   "cell_type": "code",
   "execution_count": 5,
   "metadata": {},
   "outputs": [],
   "source": [
    "import numpy as np\n",
    "import math\n",
    "# 2x + y + z = 10\n",
    "# 3x + 2y + 3z = 18\n",
    "# x + 4y + 9z = 16\n",
    "M = np.matrix([\n",
    "    [2., 1., 1., 10.],\n",
    "    [3., 2., 3., 18.],\n",
    "    [1., 4., 9., 16.]\n",
    "    ])"
   ]
  },
  {
   "cell_type": "code",
   "execution_count": 6,
   "metadata": {
    "scrolled": false
   },
   "outputs": [
    {
     "name": "stdout",
     "output_type": "stream",
     "text": [
      "Task 1: Row Operation\n",
      "\n",
      "Original matrix of 3 equations: \n",
      "[[ 2.  1.  1. 10.]\n",
      " [ 3.  2.  3. 18.]\n",
      " [ 1.  4.  9. 16.]]\n",
      "Operates (1)-(2):\n",
      "[[1.         0.33333333 0.         4.        ]]\n",
      "Operates (2)-(3):\n",
      "[[ 2.66666667  0.66666667  0.         12.66666667]]\n",
      "Operates (4)-(5):\n",
      "[[-0.33333333  0.          0.         -2.33333333]]\n",
      "\n",
      "The result of row operation involves new equations:\n",
      "[[ 2.          1.          1.         10.        ]\n",
      " [ 3.          2.          3.         18.        ]\n",
      " [ 1.          4.          9.         16.        ]\n",
      " [ 1.          0.33333333  0.          4.        ]\n",
      " [ 2.66666667  0.66666667  0.         12.66666667]\n",
      " [-0.33333333  0.          0.         -2.33333333]]\n"
     ]
    },
    {
     "data": {
      "text/plain": [
       "array([[ 7.],\n",
       "       [-9.],\n",
       "       [ 5.]])"
      ]
     },
     "execution_count": 6,
     "metadata": {},
     "output_type": "execute_result"
    }
   ],
   "source": [
    "print(\"Task 1: Row Operation\\n\")\n",
    "print(\"Original matrix of 3 equations: \")\n",
    "print(M)\n",
    "row_operation(M)"
   ]
  },
  {
   "cell_type": "code",
   "execution_count": 7,
   "metadata": {},
   "outputs": [],
   "source": [
    "# Determinant (recursion)\n",
    "def deter_rec(M):\n",
    "    (nrow,ncolumn) = M.shape\n",
    "    det = 0\n",
    "    if (nrow == 1):\n",
    "        return M[0,0]\n",
    "    else:\n",
    "        for i in range(0,ncolumn):\n",
    "            temp = M\n",
    "            temp = np.delete(temp, (0), axis=0)\n",
    "            temp = np.delete(temp, (i), axis=1)\n",
    "            det += ((-1)**i)*M[0,i]*deter_rec(temp)\n",
    "    return det\n",
    "\n",
    "# Matrix Transpose\n",
    "def transpose(M):\n",
    "    (nrow,ncolumn) = M.shape\n",
    "    a = np.empty((nrow,ncolumn)) # store the result\n",
    "    for i in range(0,nrow):\n",
    "        for j in range(0,ncolumn):\n",
    "            a[j,i] = M[i,j]\n",
    "    # end-loop\n",
    "    return a\n",
    "\n",
    "# Minor\n",
    "def minor(A):\n",
    "    (nrow,ncolumn) = A.shape\n",
    "    M = A.copy()\n",
    "    for i in range(0,nrow):\n",
    "        for j in range(0,ncolumn):\n",
    "            temp = np.delete(A, (i), axis=0)\n",
    "            temp = np.delete(temp, (j), axis=1)\n",
    "            M[i,j] = deter_rec(temp)\n",
    "#     print('Minor: ',np.matrix(M))\n",
    "    return M\n",
    "\n",
    "\n",
    "# Cofactor\n",
    "def cofactor(A):\n",
    "    (nrow,ncolumn) = A.shape\n",
    "    M = minor(A)\n",
    "    for i in range(0,nrow):\n",
    "        for j in range(0,ncolumn):\n",
    "            M[i,j] = M[i,j]*((-1)**(i+j))\n",
    "#     print(np.matrix(M))\n",
    "    return M\n",
    "\n",
    "\n",
    "# adjoint (transpose of cofactor)\n",
    "def adjoint(A):\n",
    "#     print( np.matrix(transpose(cofactor(A))) )\n",
    "    return transpose(cofactor(A))\n",
    "\n",
    "\n",
    "# Inverse (adj/det)\n",
    "def inverse(A):\n",
    "    (nrow,ncolumn) = A.shape\n",
    "    det = deter_rec(A)\n",
    "    adj = adjoint(A)\n",
    "    for i in range(0,nrow):\n",
    "        for j in range(0,ncolumn):\n",
    "            adj[i,j] = float(adj[i,j]/det) \n",
    "#     print('Inv',np.matrix(adj))\n",
    "    return adj\n",
    "    "
   ]
  },
  {
   "cell_type": "code",
   "execution_count": 8,
   "metadata": {},
   "outputs": [],
   "source": [
    "# Task 2: Inverse Matrix\n",
    "\n",
    "def inv_matrix(m):\n",
    "    [row,col] = m.shape\n",
    "     \n",
    "    A = m[:,col-1] # A = [10, 18, 16]\n",
    "    B = m[:,:col-1] # B =( [2, 1, 1],[3, 2, 3],[1, 4, 9] )\n",
    "    \n",
    "    inv_B = inverse(B) # inv_B\n",
    "    print(\"\\nInverse of the matrix:\")\n",
    "    print(inv_B)\n",
    "    \n",
    "    X = np.zeros(row)\n",
    "   \n",
    "    X = np.dot(inv_B, A) # X = inv_B dot A\n",
    "    \n",
    "    return X\n",
    "    "
   ]
  },
  {
   "cell_type": "code",
   "execution_count": 9,
   "metadata": {},
   "outputs": [
    {
     "name": "stdout",
     "output_type": "stream",
     "text": [
      "Task 2: Inverse Matrix\n",
      "\n",
      "Original matrix of 3 equations: \n",
      "[[ 2.  1.  1. 10.]\n",
      " [ 3.  2.  3. 18.]\n",
      " [ 1.  4.  9. 16.]]\n",
      "\n",
      "Inverse of the matrix:\n",
      "[[-3.   2.5 -0.5]\n",
      " [12.  -8.5  1.5]\n",
      " [-5.   3.5 -0.5]]\n"
     ]
    },
    {
     "data": {
      "text/plain": [
       "matrix([[ 7.],\n",
       "        [-9.],\n",
       "        [ 5.]])"
      ]
     },
     "execution_count": 9,
     "metadata": {},
     "output_type": "execute_result"
    }
   ],
   "source": [
    "print(\"Task 2: Inverse Matrix\\n\")\n",
    "print(\"Original matrix of 3 equations: \")\n",
    "print(M)\n",
    "inv_matrix(M)"
   ]
  },
  {
   "cell_type": "code",
   "execution_count": 10,
   "metadata": {},
   "outputs": [],
   "source": [
    "import numpy as np\n",
    "import math\n",
    "\n",
    "# 2x - 5y = 15\n",
    "# 3x + y = 31\n",
    "F = np.matrix([\n",
    "    [2., -5., 15.],\n",
    "    [3., 1., 31.]\n",
    "])\n",
    "\n",
    "# 2x + y + z = 10\n",
    "# 3x + 2y + 3z = 18\n",
    "# x + 4y + 9z = 16\n",
    "M = np.matrix([\n",
    "    [2., 1., 1., 10.],\n",
    "    [3., 2., 3., 18.],\n",
    "    [1., 4., 9., 16.]\n",
    "    ])\n",
    "\n",
    "# w + 2x + y + 4z = 13\n",
    "# 2w + 0x + 4y + 3z = 28\n",
    "# 4w + 2x + 2y + z = 20\n",
    "# -3w + x + 3y + 2z = 6\n",
    "H = np.matrix([\n",
    "    [1., 2., 1., 4., 13.],\n",
    "    [2., 0., 4., 3., 28.],\n",
    "    [4., 2., 2., 1., 20.],\n",
    "    [-3., 1., 3., 2., 6.]\n",
    "])"
   ]
  },
  {
   "cell_type": "code",
   "execution_count": 5,
   "metadata": {},
   "outputs": [],
   "source": [
    "# Task 3: Gauss Elimination Method\n",
    "\n",
    "# Forward Elimination\n",
    "\n",
    "def fw_elim_for(m):\n",
    "    (nrow, ncol) = np.shape(m)\n",
    "    calM = m.copy()\n",
    "    c = 1\n",
    "\n",
    "    for i in range(0, ncol-1):\n",
    "        for j in range(i+1, nrow):\n",
    "            fac = calM[j,i]/calM[i,i]\n",
    "#             print(fac)\n",
    "            calM[j,:] = calM[j,:] - calM[i,:]*fac\n",
    "            print(\"#{}:\".format(c))\n",
    "            c += 1\n",
    "            print(calM)\n",
    "            \n",
    "    return calM\n",
    "\n",
    "\n",
    "def fw_elim_rec(m):\n",
    "    (nrow, ncol) = np.shape(m)\n",
    "    calM = m.copy()\n",
    "    \n",
    "    if(nrow == 1):\n",
    "        pass\n",
    "    else:\n",
    "        for i in range(0, nrow-1):\n",
    "            fac = calM[i+1,0]/calM[0,0]\n",
    "            calM[i+1,:] = calM[i+1,:] - calM[0,:]*fac\n",
    "        \n",
    "        temp = fw_elim_rec(calM[1:nrow,1:ncol])\n",
    "        calM[1:nrow,1:ncol] = temp\n",
    "            \n",
    "    return calM       \n"
   ]
  },
  {
   "cell_type": "code",
   "execution_count": 6,
   "metadata": {},
   "outputs": [],
   "source": [
    "# Task 3: Gauss Elimination Method\n",
    "\n",
    "# Back Substitution\n",
    "\n",
    "def Back_sub_for(m):\n",
    "    (nrow, ncol) = np.shape(m)\n",
    "    calM = m.copy()\n",
    "    \n",
    "    result = np.zeros(nrow)\n",
    "    \n",
    "    for i in range(nrow-1, -1, -1):\n",
    "        \n",
    "        sum_of_prod = 0\n",
    "        for j in range(nrow-1, i-1, -1):\n",
    "            prod = calM[i,j]*result[j]\n",
    "            sum_of_prod += prod\n",
    "        \n",
    "        result[i] = (calM[i,ncol-1] - sum_of_prod)/calM[i,i]\n",
    "            \n",
    "    return result\n",
    "    "
   ]
  },
  {
   "cell_type": "code",
   "execution_count": 13,
   "metadata": {},
   "outputs": [
    {
     "name": "stdout",
     "output_type": "stream",
     "text": [
      "Task 3: Gauss Elimination Method\n",
      "\n",
      "Original matrix of 3 equations: \n",
      "[[ 2. -5. 15.]\n",
      " [ 3.  1. 31.]]\n",
      "#1:\n",
      "[[ 2.  -5.  15. ]\n",
      " [ 0.   8.5  8.5]]\n",
      "Using for-loop:\n",
      "[[ 2.  -5.  15. ]\n",
      " [ 0.   8.5  8.5]]\n",
      "\n",
      "Using recursive:\n",
      "[[ 2.  -5.  15. ]\n",
      " [ 0.   8.5  8.5]]\n"
     ]
    },
    {
     "data": {
      "text/plain": [
       "array([10.,  1.])"
      ]
     },
     "execution_count": 13,
     "metadata": {},
     "output_type": "execute_result"
    }
   ],
   "source": [
    "print(\"Task 3: Gauss Elimination Method\\n\")\n",
    "print(\"Original matrix of 3 equations: \")\n",
    "print(F)\n",
    "result_for = fw_elim_for(F)\n",
    "print(\"Using for-loop:\")\n",
    "print(result_for)\n",
    "result_rec = fw_elim_rec(F)\n",
    "print(\"\\nUsing recursive:\")\n",
    "print(result_rec)\n",
    "\n",
    "Back_sub_for(result_rec)"
   ]
  },
  {
   "cell_type": "code",
   "execution_count": 317,
   "metadata": {},
   "outputs": [
    {
     "name": "stdout",
     "output_type": "stream",
     "text": [
      "Task 3: Gauss Elimination Method\n",
      "\n",
      "Original matrix of 3 equations: \n",
      "[[ 2.  1.  1. 10.]\n",
      " [ 3.  2.  3. 18.]\n",
      " [ 1.  4.  9. 16.]]\n",
      "#1:\n",
      "[[ 2.   1.   1.  10. ]\n",
      " [ 0.   0.5  1.5  3. ]\n",
      " [ 1.   4.   9.  16. ]]\n",
      "#2:\n",
      "[[ 2.   1.   1.  10. ]\n",
      " [ 0.   0.5  1.5  3. ]\n",
      " [ 0.   3.5  8.5 11. ]]\n",
      "#3:\n",
      "[[  2.    1.    1.   10. ]\n",
      " [  0.    0.5   1.5   3. ]\n",
      " [  0.    0.   -2.  -10. ]]\n",
      "Using for-loop:\n",
      "[[  2.    1.    1.   10. ]\n",
      " [  0.    0.5   1.5   3. ]\n",
      " [  0.    0.   -2.  -10. ]]\n",
      "\n",
      "Using recursive:\n",
      "[[  2.    1.    1.   10. ]\n",
      " [  0.    0.5   1.5   3. ]\n",
      " [  0.    0.   -2.  -10. ]]\n"
     ]
    },
    {
     "data": {
      "text/plain": [
       "array([ 7., -9.,  5.])"
      ]
     },
     "execution_count": 317,
     "metadata": {},
     "output_type": "execute_result"
    }
   ],
   "source": [
    "print(\"Task 3: Gauss Elimination Method\\n\")\n",
    "print(\"Original matrix of 3 equations: \")\n",
    "print(M)\n",
    "result_for = fw_elim_for(M)\n",
    "print(\"Using for-loop:\")\n",
    "print(result_for)\n",
    "result_rec = fw_elim_rec(M)\n",
    "print(\"\\nUsing recursive:\")\n",
    "print(result_rec)\n",
    "\n",
    "Back_sub_for(result_rec)"
   ]
  },
  {
   "cell_type": "code",
   "execution_count": 8,
   "metadata": {},
   "outputs": [],
   "source": [
    "import numpy as np\n",
    "import math\n",
    "\n",
    "M = np.matrix([\n",
    "    [6., 15., 55., 152.6],\n",
    "    [15., 55., 225., 585.6],\n",
    "    [55., 225., 979., 2488.8]\n",
    "    ])"
   ]
  },
  {
   "cell_type": "code",
   "execution_count": 9,
   "metadata": {},
   "outputs": [
    {
     "name": "stdout",
     "output_type": "stream",
     "text": [
      "Task 3: Gauss Elimination Method\n",
      "\n",
      "Original matrix of 3 equations: \n",
      "[[   6.    15.    55.   152.6]\n",
      " [  15.    55.   225.   585.6]\n",
      " [  55.   225.   979.  2488.8]]\n",
      "#1:\n",
      "[[   6.    15.    55.   152.6]\n",
      " [   0.    17.5   87.5  204.1]\n",
      " [  55.   225.   979.  2488.8]]\n",
      "#2:\n",
      "[[   6.           15.           55.          152.6       ]\n",
      " [   0.           17.5          87.5         204.1       ]\n",
      " [   0.           87.5         474.83333333 1089.96666667]]\n",
      "#3:\n",
      "[[  6.          15.          55.         152.6       ]\n",
      " [  0.          17.5         87.5        204.1       ]\n",
      " [  0.           0.          37.33333333  69.46666667]]\n",
      "Using for-loop:\n",
      "[[  6.          15.          55.         152.6       ]\n",
      " [  0.          17.5         87.5        204.1       ]\n",
      " [  0.           0.          37.33333333  69.46666667]]\n",
      "\n",
      "Using recursive:\n",
      "[[  6.          15.          55.         152.6       ]\n",
      " [  0.          17.5         87.5        204.1       ]\n",
      " [  0.           0.          37.33333333  69.46666667]]\n"
     ]
    },
    {
     "data": {
      "text/plain": [
       "array([2.47857143, 2.35928571, 1.86071429])"
      ]
     },
     "execution_count": 9,
     "metadata": {},
     "output_type": "execute_result"
    }
   ],
   "source": [
    "print(\"Task 3: Gauss Elimination Method\\n\")\n",
    "\n",
    "print(\"Original matrix of 3 equations: \")\n",
    "print(M)\n",
    "result_for = fw_elim_for(M)\n",
    "print(\"Using for-loop:\")\n",
    "print(result_for)\n",
    "result_rec = fw_elim_rec(M)\n",
    "print(\"\\nUsing recursive:\")\n",
    "print(result_rec)\n",
    "\n",
    "Back_sub_for(result_rec)"
   ]
  },
  {
   "cell_type": "code",
   "execution_count": 319,
   "metadata": {},
   "outputs": [],
   "source": [
    "# Task 4: Cramer's Rule Method\n",
    "\n",
    "def cramer(m):\n",
    "    (nrow, ncol) = np.shape(m)\n",
    "    A = m[:,:ncol-1]\n",
    "    print(A)\n",
    "    B = m[:,ncol-1]\n",
    "    print(B)\n",
    "    detA = deter_rec(A)\n",
    "    \n",
    "    X = np.zeros(nrow)\n",
    "    \n",
    "    for i in range(0, ncol-1):\n",
    "        temp = A.copy()\n",
    "        temp[:,i] = B\n",
    "        X[i] = deter_rec(temp)/detA\n",
    "    \n",
    "    return X\n",
    "        "
   ]
  },
  {
   "cell_type": "code",
   "execution_count": 297,
   "metadata": {},
   "outputs": [
    {
     "name": "stdout",
     "output_type": "stream",
     "text": [
      "[[ 2 -5]\n",
      " [ 3  1]]\n",
      "[[15]\n",
      " [31]]\n"
     ]
    },
    {
     "data": {
      "text/plain": [
       "array([10.,  1.])"
      ]
     },
     "execution_count": 297,
     "metadata": {},
     "output_type": "execute_result"
    }
   ],
   "source": [
    "cramer(F)"
   ]
  },
  {
   "cell_type": "code",
   "execution_count": 296,
   "metadata": {},
   "outputs": [
    {
     "name": "stdout",
     "output_type": "stream",
     "text": [
      "[[2. 1. 1.]\n",
      " [3. 2. 3.]\n",
      " [1. 4. 9.]]\n",
      "[[10.]\n",
      " [18.]\n",
      " [16.]]\n"
     ]
    },
    {
     "data": {
      "text/plain": [
       "array([ 7., -9.,  5.])"
      ]
     },
     "execution_count": 296,
     "metadata": {},
     "output_type": "execute_result"
    }
   ],
   "source": [
    "cramer(M)"
   ]
  },
  {
   "cell_type": "code",
   "execution_count": 298,
   "metadata": {},
   "outputs": [
    {
     "name": "stdout",
     "output_type": "stream",
     "text": [
      "[[ 1  2  1  4]\n",
      " [ 2  0  4  3]\n",
      " [ 4  2  2  1]\n",
      " [-3  1  3  2]]\n",
      "[[13]\n",
      " [28]\n",
      " [20]\n",
      " [ 6]]\n"
     ]
    },
    {
     "data": {
      "text/plain": [
       "array([ 3., -1.,  4.,  2.])"
      ]
     },
     "execution_count": 298,
     "metadata": {},
     "output_type": "execute_result"
    }
   ],
   "source": [
    "cramer(H)"
   ]
  },
  {
   "cell_type": "code",
   "execution_count": 351,
   "metadata": {},
   "outputs": [],
   "source": [
    "# Task 5: Pivoting\n",
    "\n",
    "def partial_piv(m):\n",
    "    (nrow, ncol) = np.shape(m)\n",
    "    calM = m.copy()\n",
    "    temp = calM[0,0]\n",
    "    for i in range(1,nrow):\n",
    "        temp = calM[i,:].copy()\n",
    "        t = calM[i,0]\n",
    "        j = i\n",
    "        while(j > 0 and calM[j-1,0] < t):\n",
    "            calM[j,:] = calM[j-1,:]\n",
    "            j -= 1\n",
    "        calM[j,:] = temp\n",
    "                \n",
    "    return calM\n"
   ]
  },
  {
   "cell_type": "code",
   "execution_count": 355,
   "metadata": {},
   "outputs": [
    {
     "name": "stdout",
     "output_type": "stream",
     "text": [
      "Original:\n",
      "[[0. 2. 5. 1.]\n",
      " [2. 1. 1. 1.]\n",
      " [3. 1. 0. 2.]]\n"
     ]
    },
    {
     "data": {
      "text/plain": [
       "matrix([[3., 1., 0., 2.],\n",
       "        [2., 1., 1., 1.],\n",
       "        [0., 2., 5., 1.]])"
      ]
     },
     "execution_count": 355,
     "metadata": {},
     "output_type": "execute_result"
    }
   ],
   "source": [
    "C = np.matrix([\n",
    "    [0., 2., 5., 1.],\n",
    "    [2., 1., 1., 1.],\n",
    "    [3., 1., 0., 2.]\n",
    "])\n",
    "print(\"Original:\")\n",
    "print(C)\n",
    "partial_piv(C)"
   ]
  }
 ],
 "metadata": {
  "kernelspec": {
   "display_name": "Python 3",
   "language": "python",
   "name": "python3"
  },
  "language_info": {
   "codemirror_mode": {
    "name": "ipython",
    "version": 3
   },
   "file_extension": ".py",
   "mimetype": "text/x-python",
   "name": "python",
   "nbconvert_exporter": "python",
   "pygments_lexer": "ipython3",
   "version": "3.8.3"
  }
 },
 "nbformat": 4,
 "nbformat_minor": 4
}
